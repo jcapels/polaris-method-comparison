{
 "cells": [
  {
   "cell_type": "code",
   "execution_count": 11,
   "metadata": {},
   "outputs": [],
   "source": [
    "import matplotlib.pyplot as plt\n",
    "import pandas as pd\n",
    "import pingouin as pg\n",
    "import numpy as np\n",
    "from statsmodels.stats.libqsturng import psturng, qsturng"
   ]
  },
  {
   "cell_type": "code",
   "execution_count": 12,
   "metadata": {},
   "outputs": [],
   "source": [
    "metric_ls = [\"mae\", \"mse\", \"r2\", \"prec\", \"recall\"]\n",
    "df_scaffold_split = pd.read_csv('df_scaffold_split.csv')"
   ]
  },
  {
   "cell_type": "code",
   "execution_count": 13,
   "metadata": {},
   "outputs": [
    {
     "name": "stdout",
     "output_type": "stream",
     "text": [
      "\n",
      "Mean Difference CI Table for mae\n",
      "        group1       group2  meandiff     lower     upper  p-adj  group1_mean  \\\n",
      "0  lgbm_morgan  chemprop_mt  0.056374  0.048589  0.064159  0.001     0.440199   \n",
      "1  lgbm_morgan  chemprop_st  0.071541  0.063757  0.079326  0.001     0.440199   \n",
      "2  chemprop_mt  chemprop_st  0.015167  0.007383  0.022952  0.001     0.383825   \n",
      "\n",
      "   group2_mean  \n",
      "0     0.383825  \n",
      "1     0.368658  \n",
      "2     0.368658  \n",
      "\n",
      "Mean Difference CI Table for mse\n",
      "        group1       group2  meandiff     lower     upper  p-adj  group1_mean  \\\n",
      "0  lgbm_morgan  chemprop_mt  0.073433  0.064375  0.082492  0.001     0.373529   \n",
      "1  lgbm_morgan  chemprop_st  0.074951  0.065893   0.08401  0.001     0.373529   \n",
      "2  chemprop_mt  chemprop_st  0.001518  -0.00754  0.010576    0.9     0.300095   \n",
      "\n",
      "   group2_mean  \n",
      "0     0.300095  \n",
      "1     0.298577  \n",
      "2     0.298577  \n",
      "\n",
      "Mean Difference CI Table for r2\n",
      "        group1       group2  meandiff     lower     upper  p-adj  group1_mean  \\\n",
      "0  chemprop_st  chemprop_mt  0.002624 -0.015574  0.020822    0.9     0.403859   \n",
      "1  chemprop_st  lgbm_morgan  0.150235  0.132037  0.168433  0.001     0.403859   \n",
      "2  chemprop_mt  lgbm_morgan  0.147611  0.129413  0.165809  0.001     0.401235   \n",
      "\n",
      "   group2_mean  \n",
      "0     0.401235  \n",
      "1     0.253624  \n",
      "2     0.253624  \n",
      "\n",
      "Mean Difference CI Table for prec\n",
      "        group1       group2  meandiff     lower     upper  \\\n",
      "0  chemprop_mt  lgbm_morgan  0.007599 -0.007642   0.02284   \n",
      "1  chemprop_mt  chemprop_st  0.016123  0.000882  0.031365   \n",
      "2  lgbm_morgan  chemprop_st  0.008524 -0.006717  0.023765   \n",
      "\n",
      "                    p-adj  group1_mean  group2_mean  \n",
      "0    [0.4574434378325968]     0.856273     0.848674  \n",
      "1  [0.035955687047069085]     0.856273     0.840150  \n",
      "2    [0.3748188616285264]     0.848674     0.840150  \n",
      "\n",
      "Mean Difference CI Table for recall\n",
      "        group1       group2  meandiff     lower     upper  p-adj  group1_mean  \\\n",
      "0  chemprop_st  chemprop_mt  0.079149  0.055928   0.10237  0.001     0.660762   \n",
      "1  chemprop_st  lgbm_morgan  0.169556  0.146335  0.192777  0.001     0.660762   \n",
      "2  chemprop_mt  lgbm_morgan  0.090407  0.067186  0.113628  0.001     0.581613   \n",
      "\n",
      "   group2_mean  \n",
      "0     0.581613  \n",
      "1     0.491206  \n",
      "2     0.491206  \n"
     ]
    },
    {
     "name": "stderr",
     "output_type": "stream",
     "text": [
      "c:\\Users\\Jash4\\AppData\\Local\\anaconda3\\envs\\chemprop_py311\\Lib\\site-packages\\pingouin\\distribution.py:1004: RuntimeWarning: divide by zero encountered in scalar divide\n",
      "  W = np.prod(eig) / (eig.sum() / d) ** d\n",
      "c:\\Users\\Jash4\\AppData\\Local\\anaconda3\\envs\\chemprop_py311\\Lib\\site-packages\\pingouin\\distribution.py:1004: RuntimeWarning: divide by zero encountered in scalar divide\n",
      "  W = np.prod(eig) / (eig.sum() / d) ** d\n",
      "c:\\Users\\Jash4\\AppData\\Local\\anaconda3\\envs\\chemprop_py311\\Lib\\site-packages\\pingouin\\distribution.py:1004: RuntimeWarning: divide by zero encountered in scalar divide\n",
      "  W = np.prod(eig) / (eig.sum() / d) ** d\n"
     ]
    }
   ],
   "source": [
    "def calculate_mean_diff_ci(df, metric, group_col, alpha=.05):\n",
    "    df_means = df.groupby(group_col).mean(numeric_only=True).sort_values(metric, ascending=False)\n",
    "    df_sorted = df.set_index(group_col).loc[df_means.index].reset_index()\n",
    "\n",
    "    aov = pg.rm_anova(dv=metric, within=group_col, subject='cv_cycle', data=df, detailed=True)\n",
    "    mse = aov.loc[1, 'MS']\n",
    "    df_resid = aov.loc[1, 'DF']  \n",
    "\n",
    "    n_groups = len(df[group_col].unique())\n",
    "    n_per_group = df[group_col].value_counts().mean()\n",
    "    tukey_se = np.sqrt(2 * mse / (n_per_group))\n",
    "    q = qsturng(1-alpha, n_groups, df_resid)\n",
    "\n",
    "    methods = df_means.index\n",
    "    num_comparisons = len(methods) * (len(methods) - 1) // 2\n",
    "    result_tab = pd.DataFrame(index=range(num_comparisons), columns=[\"group1\", \"group2\", \"meandiff\", \"lower\", \"upper\", \"p-adj\"])\n",
    "\n",
    "    # Calculate pairwise mean differences and adjusted p-values\n",
    "    row_idx = 0\n",
    "    for i, method1 in enumerate(methods):\n",
    "        for j, method2 in enumerate(methods):\n",
    "            if i < j:\n",
    "                group1 = df[df[group_col] == method1][metric]\n",
    "                group2 = df[df[group_col] == method2][metric]\n",
    "                mean_diff = group1.mean() - group2.mean()\n",
    "                studentized_range = np.abs(mean_diff) / tukey_se\n",
    "                adjusted_p = psturng(studentized_range * np.sqrt(2), n_groups, df_resid)\n",
    "                lower = mean_diff - (q/np.sqrt(2) * tukey_se)\n",
    "                upper = mean_diff + (q/np.sqrt(2) * tukey_se)\n",
    "                result_tab.loc[row_idx] = [method1, method2, mean_diff, lower, upper, adjusted_p]\n",
    "                row_idx += 1\n",
    "\n",
    "    result_tab[\"group1_mean\"] = result_tab[\"group1\"].map(df_means[metric])\n",
    "    result_tab[\"group2_mean\"] = result_tab[\"group2\"].map(df_means[metric])\n",
    "\n",
    "    return result_tab\n",
    "\n",
    "def print_mean_diff_ci_table(df, metrics, metric_names, group_col, alpha=.05):\n",
    "    for i, metric in enumerate(metrics):\n",
    "        result_tab = calculate_mean_diff_ci(df, metric=metric, group_col=group_col, alpha=alpha)\n",
    "        print(f\"\\nMean Difference CI Table for {metric_names[i]}\")\n",
    "        print(result_tab)\n",
    "\n",
    "# Example usage:\n",
    "print_mean_diff_ci_table(df_scaffold_split, metrics=metric_ls, metric_names=metric_ls, group_col=\"method\")"
   ]
  }
 ],
 "metadata": {
  "kernelspec": {
   "display_name": "Python 3",
   "language": "python",
   "name": "python3"
  },
  "language_info": {
   "codemirror_mode": {
    "name": "ipython",
    "version": 3
   },
   "file_extension": ".py",
   "mimetype": "text/x-python",
   "name": "python",
   "nbconvert_exporter": "python",
   "pygments_lexer": "ipython3",
   "version": "3.11.9"
  }
 },
 "nbformat": 4,
 "nbformat_minor": 4
}
