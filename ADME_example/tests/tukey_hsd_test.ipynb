{
 "cells": [
  {
   "cell_type": "code",
   "execution_count": 1,
   "metadata": {},
   "outputs": [],
   "source": [
    "import matplotlib.pyplot as plt\n",
    "import pandas as pd\n",
    "import pingouin as pg\n",
    "import numpy as np\n",
    "from statsmodels.stats.libqsturng import psturng, qsturng"
   ]
  },
  {
   "cell_type": "code",
   "execution_count": 12,
   "metadata": {},
   "outputs": [],
   "source": [
    "metric_ls = [\"mae\", \"mse\", \"r2\", \"rho\", \"prec\", \"recall\"]\n",
    "df_scaffold_split = pd.read_csv('scaffold_split_metrics.csv')"
   ]
  },
  {
   "cell_type": "code",
   "execution_count": 5,
   "metadata": {},
   "outputs": [
    {
     "data": {
      "text/plain": [
       "array([1., 3., 2.])"
      ]
     },
     "execution_count": 5,
     "metadata": {},
     "output_type": "execute_result"
    }
   ],
   "source": [
    "np.round([1, 3, 2.1], 0)"
   ]
  },
  {
   "cell_type": "code",
   "execution_count": 13,
   "metadata": {},
   "outputs": [
    {
     "name": "stderr",
     "output_type": "stream",
     "text": [
      "c:\\Users\\Jash4\\AppData\\Local\\anaconda3\\envs\\chemprop_py311\\Lib\\site-packages\\pingouin\\distribution.py:1004: RuntimeWarning: divide by zero encountered in scalar divide\n",
      "  W = np.prod(eig) / (eig.sum() / d) ** d\n"
     ]
    },
    {
     "name": "stdout",
     "output_type": "stream",
     "text": [
      "\n",
      "Mean Difference CI Table for mae\n",
      "        group1       group2  meandiff  lower  upper  p-adj  group1_mean  \\\n",
      "0  lgbm_morgan  chemprop_mt      0.06   0.05   0.06    0.0         0.44   \n",
      "1  lgbm_morgan  chemprop_st      0.07   0.06   0.08    0.0         0.44   \n",
      "2  chemprop_mt  chemprop_st      0.02   0.01   0.02    0.0         0.38   \n",
      "\n",
      "   group2_mean  \n",
      "0         0.38  \n",
      "1         0.37  \n",
      "2         0.37  \n",
      "\n",
      "Mean Difference CI Table for mse\n",
      "        group1       group2  meandiff  lower  upper  p-adj  group1_mean  \\\n",
      "0  lgbm_morgan  chemprop_mt      0.07   0.06   0.08    0.0         0.37   \n",
      "1  lgbm_morgan  chemprop_st      0.07   0.07   0.08    0.0         0.37   \n",
      "2  chemprop_mt  chemprop_st      0.00  -0.01   0.01    0.9         0.30   \n",
      "\n",
      "   group2_mean  \n",
      "0          0.3  \n",
      "1          0.3  \n",
      "2          0.3  \n"
     ]
    },
    {
     "name": "stderr",
     "output_type": "stream",
     "text": [
      "c:\\Users\\Jash4\\AppData\\Local\\anaconda3\\envs\\chemprop_py311\\Lib\\site-packages\\pingouin\\distribution.py:1004: RuntimeWarning: divide by zero encountered in scalar divide\n",
      "  W = np.prod(eig) / (eig.sum() / d) ** d\n"
     ]
    },
    {
     "name": "stdout",
     "output_type": "stream",
     "text": [
      "\n",
      "Mean Difference CI Table for r2\n",
      "        group1       group2  meandiff  lower  upper  p-adj  group1_mean  \\\n",
      "0  chemprop_st  chemprop_mt      0.00  -0.02   0.02    0.9          0.4   \n",
      "1  chemprop_st  lgbm_morgan      0.15   0.13   0.17    0.0          0.4   \n",
      "2  chemprop_mt  lgbm_morgan      0.15   0.13   0.17    0.0          0.4   \n",
      "\n",
      "   group2_mean  \n",
      "0         0.40  \n",
      "1         0.25  \n",
      "2         0.25  \n",
      "\n",
      "Mean Difference CI Table for rho\n",
      "        group1       group2  meandiff  lower  upper  p-adj  group1_mean  \\\n",
      "0  chemprop_mt  chemprop_st      0.00  -0.01   0.01    0.9          0.6   \n",
      "1  chemprop_mt  lgbm_morgan      0.08   0.07   0.09    0.0          0.6   \n",
      "2  chemprop_st  lgbm_morgan      0.08   0.07   0.09    0.0          0.6   \n",
      "\n",
      "   group2_mean  \n",
      "0         0.60  \n",
      "1         0.52  \n",
      "2         0.52  \n"
     ]
    },
    {
     "name": "stderr",
     "output_type": "stream",
     "text": [
      "c:\\Users\\Jash4\\AppData\\Local\\anaconda3\\envs\\chemprop_py311\\Lib\\site-packages\\pingouin\\distribution.py:1004: RuntimeWarning: divide by zero encountered in scalar divide\n",
      "  W = np.prod(eig) / (eig.sum() / d) ** d\n",
      "c:\\Users\\Jash4\\AppData\\Local\\anaconda3\\envs\\chemprop_py311\\Lib\\site-packages\\pingouin\\distribution.py:1004: RuntimeWarning: divide by zero encountered in scalar divide\n",
      "  W = np.prod(eig) / (eig.sum() / d) ** d\n"
     ]
    },
    {
     "name": "stdout",
     "output_type": "stream",
     "text": [
      "\n",
      "Mean Difference CI Table for prec\n",
      "        group1       group2  meandiff  lower  upper  p-adj  group1_mean  \\\n",
      "0  chemprop_mt  lgbm_morgan      0.01  -0.01   0.02    NaN         0.86   \n",
      "1  chemprop_mt  chemprop_st      0.02   0.00   0.03    NaN         0.86   \n",
      "2  lgbm_morgan  chemprop_st      0.01  -0.01   0.02    NaN         0.85   \n",
      "\n",
      "   group2_mean  \n",
      "0         0.85  \n",
      "1         0.84  \n",
      "2         0.84  \n",
      "\n",
      "Mean Difference CI Table for recall\n",
      "        group1       group2  meandiff  lower  upper  p-adj  group1_mean  \\\n",
      "0  chemprop_st  chemprop_mt      0.08   0.06   0.10    0.0         0.66   \n",
      "1  chemprop_st  lgbm_morgan      0.17   0.15   0.19    0.0         0.66   \n",
      "2  chemprop_mt  lgbm_morgan      0.09   0.07   0.11    0.0         0.58   \n",
      "\n",
      "   group2_mean  \n",
      "0         0.58  \n",
      "1         0.49  \n",
      "2         0.49  \n"
     ]
    }
   ],
   "source": [
    "def calculate_mean_diff_ci(df, metric, group_col, alpha=.05):\n",
    "    df_means = df.groupby(group_col).mean(numeric_only=True).sort_values(metric, ascending=False)\n",
    "    df_sorted = df.set_index(group_col).loc[df_means.index].reset_index()\n",
    "\n",
    "    aov = pg.rm_anova(dv=metric, within=group_col, subject='cv_cycle', data=df, detailed=True)\n",
    "    mse = aov.loc[1, 'MS']\n",
    "    df_resid = aov.loc[1, 'DF']  \n",
    "\n",
    "    n_groups = len(df[group_col].unique())\n",
    "    n_per_group = df[group_col].value_counts().mean()\n",
    "    tukey_se = np.sqrt(2 * mse / (n_per_group))\n",
    "    q = qsturng(1-alpha, n_groups, df_resid)\n",
    "\n",
    "    methods = df_means.index\n",
    "    num_comparisons = len(methods) * (len(methods) - 1) // 2\n",
    "    result_tab = pd.DataFrame(index=range(num_comparisons), columns=[\"group1\", \"group2\", \"meandiff\", \"lower\", \"upper\", \"p-adj\"])\n",
    "\n",
    "    # Calculate pairwise mean differences and adjusted p-values\n",
    "    row_idx = 0\n",
    "    for i, method1 in enumerate(methods):\n",
    "        for j, method2 in enumerate(methods):\n",
    "            if i < j:\n",
    "                group1 = df[df[group_col] == method1][metric]\n",
    "                group2 = df[df[group_col] == method2][metric]\n",
    "                mean_diff = group1.mean() - group2.mean()\n",
    "                studentized_range = np.abs(mean_diff) / tukey_se\n",
    "                adjusted_p = psturng(studentized_range * np.sqrt(2), n_groups, df_resid)\n",
    "                lower = mean_diff - (q/np.sqrt(2) * tukey_se)\n",
    "                upper = mean_diff + (q/np.sqrt(2) * tukey_se)\n",
    "                result_tab.loc[row_idx] = [method1, method2, mean_diff, lower, upper, adjusted_p]\n",
    "                row_idx += 1\n",
    "\n",
    "    result_tab[\"group1_mean\"] = result_tab[\"group1\"].map(df_means[metric])\n",
    "    result_tab[\"group2_mean\"] = result_tab[\"group2\"].map(df_means[metric])\n",
    "\n",
    "    numeric_cols = [\"meandiff\", \"lower\", \"upper\", \"p-adj\", \"group1_mean\", \"group2_mean\"]\n",
    "    result_tab[numeric_cols] = result_tab[numeric_cols].apply(pd.to_numeric, errors='coerce')\n",
    "    result_tab[numeric_cols] = result_tab[numeric_cols].round(2)\n",
    "\n",
    "    return result_tab\n",
    "\n",
    "def print_mean_diff_ci_table(df, metrics, metric_names, group_col, alpha=.05):\n",
    "    for i, metric in enumerate(metrics):\n",
    "        result_tab = calculate_mean_diff_ci(df, metric=metric, group_col=group_col, alpha=alpha)\n",
    "        print(f\"\\nMean Difference CI Table for {metric_names[i]}\")\n",
    "        print(result_tab)\n",
    "\n",
    "# Example usage:\n",
    "print_mean_diff_ci_table(df_scaffold_split, metrics=metric_ls, metric_names=metric_ls, group_col=\"method\")"
   ]
  }
 ],
 "metadata": {
  "kernelspec": {
   "display_name": "chemprop_py311",
   "language": "python",
   "name": "python3"
  },
  "language_info": {
   "codemirror_mode": {
    "name": "ipython",
    "version": 3
   },
   "file_extension": ".py",
   "mimetype": "text/x-python",
   "name": "python",
   "nbconvert_exporter": "python",
   "pygments_lexer": "ipython3",
   "version": "3.11.9"
  }
 },
 "nbformat": 4,
 "nbformat_minor": 4
}
