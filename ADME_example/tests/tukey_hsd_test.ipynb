{
 "cells": [
  {
   "cell_type": "code",
   "execution_count": 2,
   "metadata": {},
   "outputs": [],
   "source": [
    "import matplotlib.pyplot as plt\n",
    "import pandas as pd\n",
    "import pingouin as pg\n",
    "import numpy as np\n",
    "from statsmodels.stats.libqsturng import psturng, qsturng"
   ]
  },
  {
   "cell_type": "code",
   "execution_count": 3,
   "metadata": {},
   "outputs": [],
   "source": [
    "metric_ls = [\"mae\", \"mse\", \"r2\", \"rho\", \"prec\", \"recall\"]\n",
    "df_scaffold_split = pd.read_csv('scaffold_split_metrics.csv')"
   ]
  },
  {
   "cell_type": "code",
   "execution_count": 4,
   "metadata": {},
   "outputs": [
    {
     "data": {
      "text/plain": [
       "array([1., 3., 2.])"
      ]
     },
     "execution_count": 4,
     "metadata": {},
     "output_type": "execute_result"
    }
   ],
   "source": [
    "np.round([1, 3, 2.1], 0)"
   ]
  },
  {
   "cell_type": "code",
   "execution_count": 20,
   "metadata": {},
   "outputs": [
    {
     "name": "stderr",
     "output_type": "stream",
     "text": [
      "c:\\Users\\Jash4\\AppData\\Local\\anaconda3\\envs\\chemprop_py311\\Lib\\site-packages\\pingouin\\distribution.py:1004: RuntimeWarning: divide by zero encountered in scalar divide\n",
      "  W = np.prod(eig) / (eig.sum() / d) ** d\n",
      "c:\\Users\\Jash4\\AppData\\Local\\anaconda3\\envs\\chemprop_py311\\Lib\\site-packages\\pingouin\\distribution.py:1004: RuntimeWarning: divide by zero encountered in scalar divide\n",
      "  W = np.prod(eig) / (eig.sum() / d) ** d\n",
      "c:\\Users\\Jash4\\AppData\\Local\\anaconda3\\envs\\chemprop_py311\\Lib\\site-packages\\pingouin\\distribution.py:1004: RuntimeWarning: divide by zero encountered in scalar divide\n",
      "  W = np.prod(eig) / (eig.sum() / d) ** d\n"
     ]
    },
    {
     "name": "stdout",
     "output_type": "stream",
     "text": [
      "\n",
      "Mean Difference CI Table for mae\n",
      "        group1       group2  meandiff   lower   upper  p-adj  group1_mean  \\\n",
      "0  lgbm_morgan  chemprop_mt    0.0564  0.0486  0.0642  0.001       0.4402   \n",
      "1  lgbm_morgan  chemprop_st    0.0715  0.0638  0.0793  0.001       0.4402   \n",
      "2  chemprop_mt  chemprop_st    0.0152  0.0074  0.0230  0.001       0.3838   \n",
      "\n",
      "   group2_mean  \n",
      "0       0.3838  \n",
      "1       0.3687  \n",
      "2       0.3687  \n",
      "\n",
      "Mean Difference CI Table for mse\n",
      "        group1       group2  meandiff   lower   upper  p-adj  group1_mean  \\\n",
      "0  lgbm_morgan  chemprop_mt    0.0734  0.0644  0.0825  0.001       0.3735   \n",
      "1  lgbm_morgan  chemprop_st    0.0750  0.0659  0.0840  0.001       0.3735   \n",
      "2  chemprop_mt  chemprop_st    0.0015 -0.0075  0.0106  0.900       0.3001   \n",
      "\n",
      "   group2_mean  \n",
      "0       0.3001  \n",
      "1       0.2986  \n",
      "2       0.2986  \n",
      "\n",
      "Mean Difference CI Table for r2\n",
      "        group1       group2  meandiff   lower   upper  p-adj  group1_mean  \\\n",
      "0  chemprop_st  chemprop_mt    0.0026 -0.0156  0.0208  0.900       0.4039   \n",
      "1  chemprop_st  lgbm_morgan    0.1502  0.1320  0.1684  0.001       0.4039   \n",
      "2  chemprop_mt  lgbm_morgan    0.1476  0.1294  0.1658  0.001       0.4012   \n",
      "\n",
      "   group2_mean  \n",
      "0       0.4012  \n",
      "1       0.2536  \n",
      "2       0.2536  \n",
      "\n",
      "Mean Difference CI Table for rho\n",
      "        group1       group2  meandiff   lower   upper  p-adj  group1_mean  \\\n",
      "0  chemprop_mt  chemprop_st    0.0001 -0.0142  0.0143  0.900       0.5982   \n",
      "1  chemprop_mt  lgbm_morgan    0.0803  0.0661  0.0945  0.001       0.5982   \n",
      "2  chemprop_st  lgbm_morgan    0.0802  0.0660  0.0944  0.001       0.5982   \n",
      "\n",
      "   group2_mean  \n",
      "0       0.5982  \n",
      "1       0.5180  \n",
      "2       0.5180  \n",
      "\n",
      "Mean Difference CI Table for prec\n",
      "        group1       group2  meandiff   lower   upper   p-adj  group1_mean  \\\n",
      "0  chemprop_mt  lgbm_morgan    0.0076 -0.0076  0.0228  0.4574       0.8563   \n",
      "1  chemprop_mt  chemprop_st    0.0161  0.0009  0.0314  0.0360       0.8563   \n",
      "2  lgbm_morgan  chemprop_st    0.0085 -0.0067  0.0238  0.3748       0.8487   \n",
      "\n",
      "   group2_mean  \n",
      "0       0.8487  \n",
      "1       0.8401  \n",
      "2       0.8401  \n",
      "\n",
      "Mean Difference CI Table for recall\n",
      "        group1       group2  meandiff   lower   upper  p-adj  group1_mean  \\\n",
      "0  chemprop_st  chemprop_mt    0.0791  0.0559  0.1024  0.001       0.6608   \n",
      "1  chemprop_st  lgbm_morgan    0.1696  0.1463  0.1928  0.001       0.6608   \n",
      "2  chemprop_mt  lgbm_morgan    0.0904  0.0672  0.1136  0.001       0.5816   \n",
      "\n",
      "   group2_mean  \n",
      "0       0.5816  \n",
      "1       0.4912  \n",
      "2       0.4912  \n"
     ]
    },
    {
     "name": "stderr",
     "output_type": "stream",
     "text": [
      "c:\\Users\\Jash4\\AppData\\Local\\anaconda3\\envs\\chemprop_py311\\Lib\\site-packages\\pingouin\\distribution.py:1004: RuntimeWarning: divide by zero encountered in scalar divide\n",
      "  W = np.prod(eig) / (eig.sum() / d) ** d\n"
     ]
    }
   ],
   "source": [
    "def calculate_mean_diff_ci(df, metric, group_col, alpha=.05):\n",
    "    df_means = df.groupby(group_col).mean(numeric_only=True).sort_values(metric, ascending=False)\n",
    "    df_sorted = df.set_index(group_col).loc[df_means.index].reset_index()\n",
    "\n",
    "    aov = pg.rm_anova(dv=metric, within=group_col, subject='cv_cycle', data=df, detailed=True)\n",
    "    mse = aov.loc[1, 'MS']\n",
    "    df_resid = aov.loc[1, 'DF']  \n",
    "\n",
    "    n_groups = len(df[group_col].unique())\n",
    "    n_per_group = df[group_col].value_counts().mean()\n",
    "    tukey_se = np.sqrt(2 * mse / (n_per_group))\n",
    "    q = qsturng(1-alpha, n_groups, df_resid)\n",
    "\n",
    "    methods = df_means.index\n",
    "    num_comparisons = len(methods) * (len(methods) - 1) // 2\n",
    "    result_tab = pd.DataFrame(index=range(num_comparisons), columns=[\"group1\", \"group2\", \"meandiff\", \"lower\", \"upper\", \"p-adj\"])\n",
    "\n",
    "    # Calculate pairwise mean differences and adjusted p-values\n",
    "    row_idx = 0\n",
    "    for i, method1 in enumerate(methods):\n",
    "        for j, method2 in enumerate(methods):\n",
    "            if i < j:\n",
    "                group1 = df[df[group_col] == method1][metric]\n",
    "                group2 = df[df[group_col] == method2][metric]\n",
    "                mean_diff = group1.mean() - group2.mean()\n",
    "                studentized_range = np.abs(mean_diff) / tukey_se\n",
    "                adjusted_p = psturng(studentized_range * np.sqrt(2), n_groups, df_resid)\n",
    "                if isinstance(adjusted_p, np.ndarray):\n",
    "                    adjusted_p = adjusted_p[0]\n",
    "                lower = mean_diff - (q/np.sqrt(2) * tukey_se)\n",
    "                upper = mean_diff + (q/np.sqrt(2) * tukey_se)\n",
    "                result_tab.loc[row_idx] = [method1, method2, mean_diff, lower, upper, adjusted_p]\n",
    "                row_idx += 1\n",
    "\n",
    "    result_tab[\"group1_mean\"] = result_tab[\"group1\"].map(df_means[metric])\n",
    "    result_tab[\"group2_mean\"] = result_tab[\"group2\"].map(df_means[metric])\n",
    "\n",
    "    numeric_cols = [\"meandiff\", \"lower\", \"upper\", \"p-adj\", \"group1_mean\", \"group2_mean\"]\n",
    "    result_tab[numeric_cols] = result_tab[numeric_cols].apply(pd.to_numeric, errors='coerce')\n",
    "    result_tab[numeric_cols] = result_tab[numeric_cols].round(4)\n",
    "\n",
    "    return result_tab\n",
    "\n",
    "def print_mean_diff_ci_table(df, metrics, metric_names, group_col, alpha=.05):\n",
    "    for i, metric in enumerate(metrics):\n",
    "        result_tab = calculate_mean_diff_ci(df, metric=metric, group_col=group_col, alpha=alpha)\n",
    "        print(f\"\\nMean Difference CI Table for {metric_names[i]}\")\n",
    "        print(result_tab)\n",
    "\n",
    "# Example usage:\n",
    "print_mean_diff_ci_table(df_scaffold_split, metrics=metric_ls, metric_names=metric_ls, group_col=\"method\")"
   ]
  }
 ],
 "metadata": {
  "kernelspec": {
   "display_name": "chemprop_py311",
   "language": "python",
   "name": "python3"
  },
  "language_info": {
   "codemirror_mode": {
    "name": "ipython",
    "version": 3
   },
   "file_extension": ".py",
   "mimetype": "text/x-python",
   "name": "python",
   "nbconvert_exporter": "python",
   "pygments_lexer": "ipython3",
   "version": "3.11.9"
  }
 },
 "nbformat": 4,
 "nbformat_minor": 4
}
