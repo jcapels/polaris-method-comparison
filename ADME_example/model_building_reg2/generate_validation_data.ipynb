{
 "cells": [
  {
   "cell_type": "code",
   "execution_count": 3,
   "id": "0893b0c2",
   "metadata": {
    "scrolled": true,
    "tags": []
   },
   "outputs": [
    {
     "name": "stdout",
     "output_type": "stream",
     "text": [
      "Defaulting to user installation because normal site-packages is not writeable\n",
      "Collecting git+https://github.com/PatWalters/useful_rdkit_utils\n",
      "  Cloning https://github.com/PatWalters/useful_rdkit_utils to /tmp/pip-req-build-lccbyun6\n",
      "  Running command git clone --filter=blob:none --quiet https://github.com/PatWalters/useful_rdkit_utils /tmp/pip-req-build-lccbyun6\n",
      "  Resolved https://github.com/PatWalters/useful_rdkit_utils to commit 57dc95bf269033fda0bb47a96340486f24ce71be\n",
      "  Installing build dependencies ... \u001b[?25ldone\n",
      "\u001b[?25h  Getting requirements to build wheel ... \u001b[?25ldone\n",
      "\u001b[?25h  Preparing metadata (pyproject.toml) ... \u001b[?25ldone\n",
      "\u001b[?25hRequirement already satisfied: lightgbm in /home/domino/.local/lib/python3.11/site-packages (4.5.0)\n",
      "Requirement already satisfied: chemprop in /home/domino/.local/lib/python3.11/site-packages (2.0.4)\n",
      "Requirement already satisfied: matplotlib in /home/domino/.local/lib/python3.11/site-packages (3.9.2)\n",
      "Requirement already satisfied: numpy>=1.17.0 in /usr/local/lib/python3.11/dist-packages (from lightgbm) (1.26.2)\n",
      "Requirement already satisfied: scipy in /usr/local/lib/python3.11/dist-packages (from lightgbm) (1.11.4)\n",
      "Requirement already satisfied: lightning>=2.0 in /home/domino/.local/lib/python3.11/site-packages (from chemprop) (2.4.0)\n",
      "Requirement already satisfied: pandas in /usr/local/lib/python3.11/dist-packages (from chemprop) (2.1.3)\n",
      "Requirement already satisfied: rdkit in /home/domino/.local/lib/python3.11/site-packages (from chemprop) (2024.3.5)\n",
      "Requirement already satisfied: scikit-learn in /usr/local/lib/python3.11/dist-packages (from chemprop) (1.3.2)\n",
      "Requirement already satisfied: torch>=2.1 in /home/domino/.local/lib/python3.11/site-packages (from chemprop) (2.4.1)\n",
      "Requirement already satisfied: astartes[molecules] in /home/domino/.local/lib/python3.11/site-packages (from chemprop) (1.3.0)\n",
      "Requirement already satisfied: ConfigArgParse in /home/domino/.local/lib/python3.11/site-packages (from chemprop) (1.7)\n",
      "Requirement already satisfied: click in /usr/local/lib/python3.11/dist-packages (from useful_rdkit_utils==0.64) (8.1.7)\n",
      "Requirement already satisfied: dataclasses in /home/domino/.local/lib/python3.11/site-packages (from useful_rdkit_utils==0.64) (0.6)\n",
      "Requirement already satisfied: py3dmol in /home/domino/.local/lib/python3.11/site-packages (from useful_rdkit_utils==0.64) (2.4.0)\n",
      "Requirement already satisfied: pyarrow in /usr/local/lib/python3.11/dist-packages (from useful_rdkit_utils==0.64) (14.0.1)\n",
      "Requirement already satisfied: pystow in /home/domino/.local/lib/python3.11/site-packages (from useful_rdkit_utils==0.64) (0.5.5)\n",
      "Requirement already satisfied: seaborn in /home/domino/.local/lib/python3.11/site-packages (from useful_rdkit_utils==0.64) (0.13.2)\n",
      "Requirement already satisfied: tqdm in /usr/local/lib/python3.11/dist-packages (from useful_rdkit_utils==0.64) (4.66.1)\n",
      "Requirement already satisfied: contourpy>=1.0.1 in /home/domino/.local/lib/python3.11/site-packages (from matplotlib) (1.3.0)\n",
      "Requirement already satisfied: cycler>=0.10 in /home/domino/.local/lib/python3.11/site-packages (from matplotlib) (0.12.1)\n",
      "Requirement already satisfied: fonttools>=4.22.0 in /home/domino/.local/lib/python3.11/site-packages (from matplotlib) (4.53.1)\n",
      "Requirement already satisfied: kiwisolver>=1.3.1 in /home/domino/.local/lib/python3.11/site-packages (from matplotlib) (1.4.7)\n",
      "Requirement already satisfied: packaging>=20.0 in /usr/local/lib/python3.11/dist-packages (from matplotlib) (23.2)\n",
      "Requirement already satisfied: pillow>=8 in /usr/local/lib/python3.11/dist-packages (from matplotlib) (10.1.0)\n",
      "Requirement already satisfied: pyparsing>=2.3.1 in /home/domino/.local/lib/python3.11/site-packages (from matplotlib) (3.1.4)\n",
      "Requirement already satisfied: python-dateutil>=2.7 in /usr/local/lib/python3.11/dist-packages (from matplotlib) (2.8.2)\n",
      "Requirement already satisfied: PyYAML<8.0,>=5.4 in /usr/local/lib/python3.11/dist-packages (from lightning>=2.0->chemprop) (6.0.1)\n",
      "Requirement already satisfied: fsspec<2026.0,>=2022.5.0 in /usr/local/lib/python3.11/dist-packages (from fsspec[http]<2026.0,>=2022.5.0->lightning>=2.0->chemprop) (2023.10.0)\n",
      "Requirement already satisfied: lightning-utilities<2.0,>=0.10.0 in /usr/local/lib/python3.11/dist-packages (from lightning>=2.0->chemprop) (0.10.0)\n",
      "Requirement already satisfied: torchmetrics<3.0,>=0.7.0 in /usr/local/lib/python3.11/dist-packages (from lightning>=2.0->chemprop) (1.2.0)\n",
      "Requirement already satisfied: typing-extensions<6.0,>=4.4.0 in /usr/local/lib/python3.11/dist-packages (from lightning>=2.0->chemprop) (4.8.0)\n",
      "Requirement already satisfied: pytorch-lightning in /home/domino/.local/lib/python3.11/site-packages (from lightning>=2.0->chemprop) (2.4.0)\n",
      "Requirement already satisfied: six>=1.5 in /usr/lib/python3/dist-packages (from python-dateutil>=2.7->matplotlib) (1.14.0)\n",
      "Requirement already satisfied: filelock in /usr/local/lib/python3.11/dist-packages (from torch>=2.1->chemprop) (3.13.1)\n",
      "Requirement already satisfied: sympy in /usr/local/lib/python3.11/dist-packages (from torch>=2.1->chemprop) (1.12)\n",
      "Requirement already satisfied: networkx in /usr/local/lib/python3.11/dist-packages (from torch>=2.1->chemprop) (3.2.1)\n",
      "Requirement already satisfied: jinja2 in /usr/local/lib/python3.11/dist-packages (from torch>=2.1->chemprop) (3.1.2)\n",
      "Requirement already satisfied: nvidia-cuda-nvrtc-cu12==12.1.105 in /home/domino/.local/lib/python3.11/site-packages (from torch>=2.1->chemprop) (12.1.105)\n",
      "Requirement already satisfied: nvidia-cuda-runtime-cu12==12.1.105 in /home/domino/.local/lib/python3.11/site-packages (from torch>=2.1->chemprop) (12.1.105)\n",
      "Requirement already satisfied: nvidia-cuda-cupti-cu12==12.1.105 in /home/domino/.local/lib/python3.11/site-packages (from torch>=2.1->chemprop) (12.1.105)\n",
      "Requirement already satisfied: nvidia-cudnn-cu12==9.1.0.70 in /home/domino/.local/lib/python3.11/site-packages (from torch>=2.1->chemprop) (9.1.0.70)\n",
      "Requirement already satisfied: nvidia-cublas-cu12==12.1.3.1 in /home/domino/.local/lib/python3.11/site-packages (from torch>=2.1->chemprop) (12.1.3.1)\n",
      "Requirement already satisfied: nvidia-cufft-cu12==11.0.2.54 in /home/domino/.local/lib/python3.11/site-packages (from torch>=2.1->chemprop) (11.0.2.54)\n",
      "Requirement already satisfied: nvidia-curand-cu12==10.3.2.106 in /home/domino/.local/lib/python3.11/site-packages (from torch>=2.1->chemprop) (10.3.2.106)\n",
      "Requirement already satisfied: nvidia-cusolver-cu12==11.4.5.107 in /home/domino/.local/lib/python3.11/site-packages (from torch>=2.1->chemprop) (11.4.5.107)\n",
      "Requirement already satisfied: nvidia-cusparse-cu12==12.1.0.106 in /home/domino/.local/lib/python3.11/site-packages (from torch>=2.1->chemprop) (12.1.0.106)\n",
      "Requirement already satisfied: nvidia-nccl-cu12==2.20.5 in /home/domino/.local/lib/python3.11/site-packages (from torch>=2.1->chemprop) (2.20.5)\n",
      "Requirement already satisfied: nvidia-nvtx-cu12==12.1.105 in /home/domino/.local/lib/python3.11/site-packages (from torch>=2.1->chemprop) (12.1.105)\n",
      "Requirement already satisfied: triton==3.0.0 in /home/domino/.local/lib/python3.11/site-packages (from torch>=2.1->chemprop) (3.0.0)\n",
      "Requirement already satisfied: nvidia-nvjitlink-cu12 in /home/domino/.local/lib/python3.11/site-packages (from nvidia-cusolver-cu12==11.4.5.107->torch>=2.1->chemprop) (12.6.68)\n",
      "Requirement already satisfied: tabulate in /home/domino/.local/lib/python3.11/site-packages (from astartes[molecules]->chemprop) (0.9.0)\n",
      "Requirement already satisfied: aimsim-core in /home/domino/.local/lib/python3.11/site-packages (from astartes[molecules]->chemprop) (2.2.2)\n",
      "Requirement already satisfied: pytz>=2020.1 in /usr/local/lib/python3.11/dist-packages (from pandas->chemprop) (2023.3.post1)\n",
      "Requirement already satisfied: tzdata>=2022.1 in /usr/local/lib/python3.11/dist-packages (from pandas->chemprop) (2023.3)\n",
      "Requirement already satisfied: requests in /usr/local/lib/python3.11/dist-packages (from pystow->useful_rdkit_utils==0.64) (2.31.0)\n",
      "Requirement already satisfied: joblib>=1.1.1 in /usr/local/lib/python3.11/dist-packages (from scikit-learn->chemprop) (1.3.2)\n",
      "Requirement already satisfied: threadpoolctl>=2.0.0 in /usr/local/lib/python3.11/dist-packages (from scikit-learn->chemprop) (3.2.0)\n",
      "Requirement already satisfied: aiohttp!=4.0.0a0,!=4.0.0a1 in /usr/local/lib/python3.11/dist-packages (from fsspec[http]<2026.0,>=2022.5.0->lightning>=2.0->chemprop) (3.9.1)\n",
      "Requirement already satisfied: setuptools in /usr/lib/python3/dist-packages (from lightning-utilities<2.0,>=0.10.0->lightning>=2.0->chemprop) (45.2.0)\n",
      "Requirement already satisfied: psutil in /usr/local/lib/python3.11/dist-packages (from aimsim-core->astartes[molecules]->chemprop) (5.9.6)\n",
      "Requirement already satisfied: padelpy in /home/domino/.local/lib/python3.11/site-packages (from aimsim-core->astartes[molecules]->chemprop) (0.1.16)\n",
      "Requirement already satisfied: mhfp in /home/domino/.local/lib/python3.11/site-packages (from aimsim-core->astartes[molecules]->chemprop) (1.9.6)\n",
      "Requirement already satisfied: mordredcommunity in /home/domino/.local/lib/python3.11/site-packages (from aimsim-core->astartes[molecules]->chemprop) (2.0.6)\n",
      "Requirement already satisfied: multiprocess>=0.70 in /usr/local/lib/python3.11/dist-packages (from aimsim-core->astartes[molecules]->chemprop) (0.70.15)\n",
      "Requirement already satisfied: MarkupSafe>=2.0 in /usr/local/lib/python3.11/dist-packages (from jinja2->torch>=2.1->chemprop) (2.1.3)\n",
      "Requirement already satisfied: charset-normalizer<4,>=2 in /usr/local/lib/python3.11/dist-packages (from requests->pystow->useful_rdkit_utils==0.64) (3.3.2)\n",
      "Requirement already satisfied: idna<4,>=2.5 in /usr/lib/python3/dist-packages (from requests->pystow->useful_rdkit_utils==0.64) (2.8)\n",
      "Requirement already satisfied: urllib3<3,>=1.21.1 in /usr/lib/python3/dist-packages (from requests->pystow->useful_rdkit_utils==0.64) (1.25.8)\n",
      "Requirement already satisfied: certifi>=2017.4.17 in /usr/lib/python3/dist-packages (from requests->pystow->useful_rdkit_utils==0.64) (2019.11.28)\n",
      "Requirement already satisfied: mpmath>=0.19 in /usr/local/lib/python3.11/dist-packages (from sympy->torch>=2.1->chemprop) (1.3.0)\n",
      "Requirement already satisfied: attrs>=17.3.0 in /usr/local/lib/python3.11/dist-packages (from aiohttp!=4.0.0a0,!=4.0.0a1->fsspec[http]<2026.0,>=2022.5.0->lightning>=2.0->chemprop) (23.1.0)\n",
      "Requirement already satisfied: multidict<7.0,>=4.5 in /usr/local/lib/python3.11/dist-packages (from aiohttp!=4.0.0a0,!=4.0.0a1->fsspec[http]<2026.0,>=2022.5.0->lightning>=2.0->chemprop) (6.0.4)\n",
      "Requirement already satisfied: yarl<2.0,>=1.0 in /usr/local/lib/python3.11/dist-packages (from aiohttp!=4.0.0a0,!=4.0.0a1->fsspec[http]<2026.0,>=2022.5.0->lightning>=2.0->chemprop) (1.9.3)\n",
      "Requirement already satisfied: frozenlist>=1.1.1 in /usr/local/lib/python3.11/dist-packages (from aiohttp!=4.0.0a0,!=4.0.0a1->fsspec[http]<2026.0,>=2022.5.0->lightning>=2.0->chemprop) (1.4.0)\n",
      "Requirement already satisfied: aiosignal>=1.1.2 in /usr/local/lib/python3.11/dist-packages (from aiohttp!=4.0.0a0,!=4.0.0a1->fsspec[http]<2026.0,>=2022.5.0->lightning>=2.0->chemprop) (1.3.1)\n",
      "Requirement already satisfied: dill>=0.3.7 in /usr/local/lib/python3.11/dist-packages (from multiprocess>=0.70->aimsim-core->astartes[molecules]->chemprop) (0.3.7)\n",
      "\n",
      "\u001b[1m[\u001b[0m\u001b[34;49mnotice\u001b[0m\u001b[1;39;49m]\u001b[0m\u001b[39;49m A new release of pip is available: \u001b[0m\u001b[31;49m23.3.1\u001b[0m\u001b[39;49m -> \u001b[0m\u001b[32;49m24.2\u001b[0m\n",
      "\u001b[1m[\u001b[0m\u001b[34;49mnotice\u001b[0m\u001b[1;39;49m]\u001b[0m\u001b[39;49m To update, run: \u001b[0m\u001b[32;49mpython3.11 -m pip install --upgrade pip\u001b[0m\n"
     ]
    }
   ],
   "source": [
    "!pip install lightgbm chemprop git+https://github.com/PatWalters/useful_rdkit_utils matplotlib"
   ]
  },
  {
   "cell_type": "code",
   "execution_count": 1,
   "id": "8cd2c4cb",
   "metadata": {
    "tags": []
   },
   "outputs": [],
   "source": [
    "import pandas as pd\n",
    "import numpy as np\n",
    "import matplotlib.pyplot as plt\n",
    "from sklearn.model_selection import train_test_split\n",
    "import os\n",
    "from rdkit import Chem\n",
    "from rdkit.Chem import Descriptors\n",
    "from tqdm.auto import tqdm\n",
    "import warnings\n",
    "from helper import scaffold_split"
   ]
  },
  {
   "cell_type": "markdown",
   "id": "319fa84c",
   "metadata": {},
   "source": [
    "Enable Pandas progress apply"
   ]
  },
  {
   "cell_type": "code",
   "execution_count": 2,
   "id": "1a1de323",
   "metadata": {},
   "outputs": [],
   "source": [
    "tqdm.pandas()"
   ]
  },
  {
   "cell_type": "markdown",
   "id": "3d82db00",
   "metadata": {},
   "source": [
    "Read the data "
   ]
  },
  {
   "cell_type": "code",
   "execution_count": 8,
   "id": "4dd87659",
   "metadata": {
    "tags": []
   },
   "outputs": [],
   "source": [
    "df = pd.read_csv(\"ADME_public_set_3521.csv\")"
   ]
  },
  {
   "cell_type": "code",
   "execution_count": 9,
   "id": "c6c8050d",
   "metadata": {},
   "outputs": [
    {
     "data": {
      "text/html": [
       "<div>\n",
       "<style scoped>\n",
       "    .dataframe tbody tr th:only-of-type {\n",
       "        vertical-align: middle;\n",
       "    }\n",
       "\n",
       "    .dataframe tbody tr th {\n",
       "        vertical-align: top;\n",
       "    }\n",
       "\n",
       "    .dataframe thead th {\n",
       "        text-align: right;\n",
       "    }\n",
       "</style>\n",
       "<table border=\"1\" class=\"dataframe\">\n",
       "  <thead>\n",
       "    <tr style=\"text-align: right;\">\n",
       "      <th></th>\n",
       "      <th>LOG HLM_CLint (mL/min/kg)</th>\n",
       "      <th>LOG MDR1-MDCK ER (B-A/A-B)</th>\n",
       "      <th>LOG SOLUBILITY PH 6.8 (ug/mL)</th>\n",
       "      <th>LOG PLASMA PROTEIN BINDING (HUMAN) (% unbound)</th>\n",
       "      <th>LOG PLASMA PROTEIN BINDING (RAT) (% unbound)</th>\n",
       "      <th>LOG RLM_CLint (mL/min/kg)</th>\n",
       "    </tr>\n",
       "  </thead>\n",
       "  <tbody>\n",
       "    <tr>\n",
       "      <th>count</th>\n",
       "      <td>3087.000000</td>\n",
       "      <td>2642.000000</td>\n",
       "      <td>2173.000000</td>\n",
       "      <td>194.000000</td>\n",
       "      <td>168.000000</td>\n",
       "      <td>3054.000000</td>\n",
       "    </tr>\n",
       "    <tr>\n",
       "      <th>mean</th>\n",
       "      <td>1.320019</td>\n",
       "      <td>0.397829</td>\n",
       "      <td>1.259943</td>\n",
       "      <td>0.765722</td>\n",
       "      <td>0.764177</td>\n",
       "      <td>2.256207</td>\n",
       "    </tr>\n",
       "    <tr>\n",
       "      <th>std</th>\n",
       "      <td>0.623952</td>\n",
       "      <td>0.688465</td>\n",
       "      <td>0.683416</td>\n",
       "      <td>0.847902</td>\n",
       "      <td>0.798988</td>\n",
       "      <td>0.750422</td>\n",
       "    </tr>\n",
       "    <tr>\n",
       "      <th>min</th>\n",
       "      <td>0.675687</td>\n",
       "      <td>-1.162425</td>\n",
       "      <td>-1.000000</td>\n",
       "      <td>-1.593460</td>\n",
       "      <td>-1.638272</td>\n",
       "      <td>1.027920</td>\n",
       "    </tr>\n",
       "    <tr>\n",
       "      <th>25%</th>\n",
       "      <td>0.675687</td>\n",
       "      <td>-0.162356</td>\n",
       "      <td>1.153510</td>\n",
       "      <td>0.168067</td>\n",
       "      <td>0.226564</td>\n",
       "      <td>1.688291</td>\n",
       "    </tr>\n",
       "    <tr>\n",
       "      <th>50%</th>\n",
       "      <td>1.205313</td>\n",
       "      <td>0.153291</td>\n",
       "      <td>1.542825</td>\n",
       "      <td>0.867555</td>\n",
       "      <td>0.776427</td>\n",
       "      <td>2.311068</td>\n",
       "    </tr>\n",
       "    <tr>\n",
       "      <th>75%</th>\n",
       "      <td>1.803115</td>\n",
       "      <td>0.905013</td>\n",
       "      <td>1.687351</td>\n",
       "      <td>1.501953</td>\n",
       "      <td>1.375962</td>\n",
       "      <td>2.835274</td>\n",
       "    </tr>\n",
       "    <tr>\n",
       "      <th>max</th>\n",
       "      <td>3.372714</td>\n",
       "      <td>2.725057</td>\n",
       "      <td>2.179264</td>\n",
       "      <td>2.000000</td>\n",
       "      <td>2.000000</td>\n",
       "      <td>3.969622</td>\n",
       "    </tr>\n",
       "  </tbody>\n",
       "</table>\n",
       "</div>"
      ],
      "text/plain": [
       "       LOG HLM_CLint (mL/min/kg)  LOG MDR1-MDCK ER (B-A/A-B)  \\\n",
       "count                3087.000000                 2642.000000   \n",
       "mean                    1.320019                    0.397829   \n",
       "std                     0.623952                    0.688465   \n",
       "min                     0.675687                   -1.162425   \n",
       "25%                     0.675687                   -0.162356   \n",
       "50%                     1.205313                    0.153291   \n",
       "75%                     1.803115                    0.905013   \n",
       "max                     3.372714                    2.725057   \n",
       "\n",
       "       LOG SOLUBILITY PH 6.8 (ug/mL)  \\\n",
       "count                    2173.000000   \n",
       "mean                        1.259943   \n",
       "std                         0.683416   \n",
       "min                        -1.000000   \n",
       "25%                         1.153510   \n",
       "50%                         1.542825   \n",
       "75%                         1.687351   \n",
       "max                         2.179264   \n",
       "\n",
       "       LOG PLASMA PROTEIN BINDING (HUMAN) (% unbound)  \\\n",
       "count                                      194.000000   \n",
       "mean                                         0.765722   \n",
       "std                                          0.847902   \n",
       "min                                         -1.593460   \n",
       "25%                                          0.168067   \n",
       "50%                                          0.867555   \n",
       "75%                                          1.501953   \n",
       "max                                          2.000000   \n",
       "\n",
       "       LOG PLASMA PROTEIN BINDING (RAT) (% unbound)  LOG RLM_CLint (mL/min/kg)  \n",
       "count                                    168.000000                3054.000000  \n",
       "mean                                       0.764177                   2.256207  \n",
       "std                                        0.798988                   0.750422  \n",
       "min                                       -1.638272                   1.027920  \n",
       "25%                                        0.226564                   1.688291  \n",
       "50%                                        0.776427                   2.311068  \n",
       "75%                                        1.375962                   2.835274  \n",
       "max                                        2.000000                   3.969622  "
      ]
     },
     "execution_count": 9,
     "metadata": {},
     "output_type": "execute_result"
    }
   ],
   "source": [
    "df.describe()"
   ]
  },
  {
   "cell_type": "markdown",
   "id": "0d9bd2d2",
   "metadata": {},
   "source": [
    "Convert solublity to uM"
   ]
  },
  {
   "cell_type": "code",
   "execution_count": 10,
   "id": "5986e645",
   "metadata": {
    "tags": []
   },
   "outputs": [],
   "source": [
    "def compute_mol_weight(smiles):\n",
    "    mol = Chem.MolFromSmiles(smiles)\n",
    "    return Descriptors.MolWt(mol)\n",
    "df['Molecular Weight'] = df['SMILES'].apply(compute_mol_weight)\n",
    "df['LOG SOLUBILITY PH 6.8 (uM)'] = ((10**df['LOG SOLUBILITY PH 6.8 (ug/mL)']) * 1000) / df['Molecular Weight']\n",
    "df['LOG SOLUBILITY PH 6.8 (uM)'] = np.log10(df['LOG SOLUBILITY PH 6.8 (uM)'])"
   ]
  },
  {
   "cell_type": "code",
   "execution_count": 11,
   "id": "eb21f50a",
   "metadata": {
    "tags": []
   },
   "outputs": [
    {
     "data": {
      "image/png": "[encoded data removed]",
      "text/plain": [
       "<Figure size 640x480 with 1 Axes>"
      ]
     },
     "metadata": {},
     "output_type": "display_data"
    }
   ],
   "source": [
    "plt.scatter(df[ \"LOG SOLUBILITY PH 6.8 (uM)\"], df[\"LOG SOLUBILITY PH 6.8 (ug/mL)\"], label='Data Points')\n",
    "min_val = min(df[ \"LOG SOLUBILITY PH 6.8 (uM)\"].min(), df[\"LOG SOLUBILITY PH 6.8 (ug/mL)\"].min())\n",
    "max_val = max(df[ \"LOG SOLUBILITY PH 6.8 (uM)\"].max(), df[\"LOG SOLUBILITY PH 6.8 (ug/mL)\"].max())\n",
    "plt.plot([min_val, max_val], [min_val, max_val], color='red', linestyle='--', label='y=x')\n",
    "plt.xlabel( \"LOG SOLUBILITY PH 6.8 (uM)\")\n",
    "plt.ylabel(\"LOG SOLUBILITY PH 6.8 (ug/mL)\")\n",
    "plt.legend()\n",
    "plt.show()"
   ]
  },
  {
   "cell_type": "code",
   "execution_count": 12,
   "id": "4f80bd3a",
   "metadata": {
    "tags": []
   },
   "outputs": [
    {
     "data": {
      "text/plain": [
       "array([[<Axes: title={'center': 'LOG SOLUBILITY PH 6.8 (uM)'}>,\n",
       "        <Axes: title={'center': 'LOG SOLUBILITY PH 6.8 (ug/mL)'}>]],\n",
       "      dtype=object)"
      ]
     },
     "execution_count": 12,
     "metadata": {},
     "output_type": "execute_result"
    },
    {
     "data": {
      "image/png": "[encoded data removed]",
      "text/plain": [
       "<Figure size 640x480 with 2 Axes>"
      ]
     },
     "metadata": {},
     "output_type": "display_data"
    }
   ],
   "source": [
    "df[[\"LOG SOLUBILITY PH 6.8 (uM)\", \"LOG SOLUBILITY PH 6.8 (ug/mL)\"]].hist()"
   ]
  },
  {
   "cell_type": "markdown",
   "id": "c12d130a",
   "metadata": {},
   "source": [
    "Add an RDKit molecule to the dataframe.  "
   ]
  },
  {
   "cell_type": "code",
   "execution_count": 13,
   "id": "f946b64c",
   "metadata": {
    "tags": []
   },
   "outputs": [
    {
     "data": {
      "application/vnd.jupyter.widget-view+json": {
       "model_id": "f9f04dd89d8040f4952e29c336476c10",
       "version_major": 2,
       "version_minor": 0
      },
      "text/plain": [
       "  0%|          | 0/3521 [00:00<?, ?it/s]"
      ]
     },
     "metadata": {},
     "output_type": "display_data"
    }
   ],
   "source": [
    "df = df.drop(['LOG SOLUBILITY PH 6.8 (ug/mL)', 'Molecular Weight'],axis=1)\n",
    "df['mol'] = df.SMILES.progress_apply(Chem.MolFromSmiles)"
   ]
  },
  {
   "cell_type": "markdown",
   "id": "fcf06f54",
   "metadata": {},
   "source": [
    "Delete rows where the SMILES couldn't be parsed"
   ]
  },
  {
   "cell_type": "code",
   "execution_count": 14,
   "id": "d7875c01",
   "metadata": {},
   "outputs": [],
   "source": [
    "df_ok = df.dropna(subset=['mol']).copy()"
   ]
  },
  {
   "cell_type": "markdown",
   "id": "a6da5eac",
   "metadata": {},
   "source": [
    "Make sure we don't have duplicate molecules"
   ]
  },
  {
   "cell_type": "code",
   "execution_count": 15,
   "id": "5518e87b",
   "metadata": {
    "tags": []
   },
   "outputs": [],
   "source": [
    "df_ok['cansmi'] = df_ok.mol.apply(Chem.MolToSmiles)"
   ]
  },
  {
   "cell_type": "code",
   "execution_count": 16,
   "id": "c464e980",
   "metadata": {
    "tags": []
   },
   "outputs": [
    {
     "data": {
      "text/plain": [
       "cansmi\n",
       "CNc1cc(Nc2cccn(-c3ccccn3)c2=O)nn2c(C(=O)N[C@@H]3C[C@@H]3F)cnc12    1\n",
       "Cc1nccc(NC(=O)CCc2ccncc2)c1Cl                                      1\n",
       "CCc1nnc(N2CC(N(C)C)C2)c(C#N)c1CC                                   1\n",
       "CCc1nnc(Nc2cc(C)nc(C3CN(C(=O)C(C)C)CCO3)c2)s1                      1\n",
       "O=C(Nc1ccncc1)[C@H]1CCCN(S(=O)(=O)c2ccc(Cl)cc2)C1                  1\n",
       "                                                                  ..\n",
       "O=C(c1ccccn1)N1CCCC(c2cccc(-c3cccc(Cl)c3)n2)C1                     1\n",
       "CN1CCN(c2ccc(NC(=O)c3ccc(S(=O)(=O)N4CCCc5ccccc54)cc3)cc2)CC1       1\n",
       "Cc1cnn(Cc2nc(Cn3cccn3)no2)c1                                       1\n",
       "COc1ccccc1CC(=O)Nc1ncc(C)s1                                        1\n",
       "Cc1cccc(/C=N/Nc2cc(N3CCOCC3)n3nc(-c4ccncc4)cc3n2)c1                1\n",
       "Name: count, Length: 3521, dtype: int64"
      ]
     },
     "execution_count": 16,
     "metadata": {},
     "output_type": "execute_result"
    }
   ],
   "source": [
    "df_ok.cansmi.value_counts()"
   ]
  },
  {
   "cell_type": "markdown",
   "id": "22735d72",
   "metadata": {},
   "source": [
    "Drop the molecule column"
   ]
  },
  {
   "cell_type": "code",
   "execution_count": 17,
   "id": "0d2eb69a",
   "metadata": {
    "tags": []
   },
   "outputs": [],
   "source": [
    "df_ok = df_ok.drop([\"mol\",\"cansmi\"],axis=1)"
   ]
  },
  {
   "cell_type": "markdown",
   "id": "04317d92",
   "metadata": {},
   "source": [
    "Double check the sizes of the dataframes"
   ]
  },
  {
   "cell_type": "code",
   "execution_count": 18,
   "id": "e1eb8ff9",
   "metadata": {
    "tags": []
   },
   "outputs": [
    {
     "data": {
      "text/plain": [
       "(3521, 3521, 0)"
      ]
     },
     "execution_count": 18,
     "metadata": {},
     "output_type": "execute_result"
    }
   ],
   "source": [
    "len(df),len(df_ok),len(df)-len(df_ok)"
   ]
  },
  {
   "cell_type": "markdown",
   "id": "804e1df3",
   "metadata": {},
   "source": [
    "Create two dataframes, one with the molecules that have Sol data and one with the molecules that don't. For single task, we'll only use the molecules with Sol data.  For multitask, we'll use all the data. "
   ]
  },
  {
   "cell_type": "code",
   "execution_count": 19,
   "id": "76aa90ba",
   "metadata": {
    "tags": []
   },
   "outputs": [
    {
     "data": {
      "text/plain": [
       "{'Internal ID': 'Name',\n",
       " 'Vendor ID': 'Vendor ID',\n",
       " 'SMILES': 'SMILES',\n",
       " 'CollectionName': 'CollectionName',\n",
       " 'LOG HLM_CLint (mL/min/kg)': 'HLM_CLint',\n",
       " 'LOG MDR1-MDCK ER (B-A/A-B)': 'ER',\n",
       " 'LOG PLASMA PROTEIN BINDING (HUMAN) (% unbound)': 'HPPB',\n",
       " 'LOG PLASMA PROTEIN BINDING (RAT) (% unbound)': 'RPPB',\n",
       " 'LOG RLM_CLint (mL/min/kg)': 'RLM_CLint',\n",
       " 'LOG SOLUBILITY PH 6.8 (uM)': 'Sol'}"
      ]
     },
     "execution_count": 19,
     "metadata": {},
     "output_type": "execute_result"
    }
   ],
   "source": [
    "rename_ls = ['Name',\n",
    " 'Vendor ID',\n",
    " 'SMILES',\n",
    " 'CollectionName',\n",
    " 'HLM_CLint',\n",
    " 'ER',\n",
    " 'HPPB',\n",
    " 'RPPB',\n",
    " 'RLM_CLint',\n",
    " 'Sol']\n",
    "rename_dic = dict(zip(df_ok.columns.tolist(), rename_ls))\n",
    "rename_dic"
   ]
  },
  {
   "cell_type": "code",
   "execution_count": 20,
   "id": "d440ecb4",
   "metadata": {
    "tags": []
   },
   "outputs": [],
   "source": [
    "df_ok = df_ok.rename(columns=rename_dic)"
   ]
  },
  {
   "cell_type": "code",
   "execution_count": 21,
   "id": "a259ef25",
   "metadata": {
    "tags": []
   },
   "outputs": [
    {
     "data": {
      "text/plain": [
       "array([[<Axes: title={'center': 'HLM_CLint'}>,\n",
       "        <Axes: title={'center': 'ER'}>],\n",
       "       [<Axes: title={'center': 'HPPB'}>,\n",
       "        <Axes: title={'center': 'RPPB'}>],\n",
       "       [<Axes: title={'center': 'RLM_CLint'}>,\n",
       "        <Axes: title={'center': 'Sol'}>]], dtype=object)"
      ]
     },
     "execution_count": 21,
     "metadata": {},
     "output_type": "execute_result"
    },
    {
     "data": {
      "image/png": "[encoded data removed]",
      "text/plain": [
       "<Figure size 1200x800 with 6 Axes>"
      ]
     },
     "metadata": {},
     "output_type": "display_data"
    }
   ],
   "source": [
    "df_ok.hist(figsize = (12, 8))"
   ]
  },
  {
   "cell_type": "code",
   "execution_count": 22,
   "id": "a1e2ad7f",
   "metadata": {},
   "outputs": [],
   "source": [
    "df_sol = df_ok.dropna(subset=[\"Sol\"]).copy()\n",
    "df_rest = df_ok[df_ok.Sol.isna()].copy()"
   ]
  },
  {
   "cell_type": "code",
   "execution_count": 23,
   "id": "0886b422",
   "metadata": {
    "tags": []
   },
   "outputs": [
    {
     "data": {
      "text/html": [
       "<div>\n",
       "<style scoped>\n",
       "    .dataframe tbody tr th:only-of-type {\n",
       "        vertical-align: middle;\n",
       "    }\n",
       "\n",
       "    .dataframe tbody tr th {\n",
       "        vertical-align: top;\n",
       "    }\n",
       "\n",
       "    .dataframe thead th {\n",
       "        text-align: right;\n",
       "    }\n",
       "</style>\n",
       "<table border=\"1\" class=\"dataframe\">\n",
       "  <thead>\n",
       "    <tr style=\"text-align: right;\">\n",
       "      <th></th>\n",
       "      <th>Name</th>\n",
       "      <th>Vendor ID</th>\n",
       "      <th>SMILES</th>\n",
       "      <th>CollectionName</th>\n",
       "      <th>HLM_CLint</th>\n",
       "      <th>ER</th>\n",
       "      <th>HPPB</th>\n",
       "      <th>RPPB</th>\n",
       "      <th>RLM_CLint</th>\n",
       "      <th>Sol</th>\n",
       "    </tr>\n",
       "  </thead>\n",
       "  <tbody>\n",
       "    <tr>\n",
       "      <th>2</th>\n",
       "      <td>Mol3</td>\n",
       "      <td>304005766</td>\n",
       "      <td>CN(c1ncc(F)cn1)[C@H]1CCCNC1</td>\n",
       "      <td>emolecules</td>\n",
       "      <td>0.675687</td>\n",
       "      <td>-0.358806</td>\n",
       "      <td>2.000000</td>\n",
       "      <td>2.000000</td>\n",
       "      <td>1.027920</td>\n",
       "      <td>NaN</td>\n",
       "    </tr>\n",
       "    <tr>\n",
       "      <th>4</th>\n",
       "      <td>Mol5</td>\n",
       "      <td>324059015</td>\n",
       "      <td>CC(C)(O)CCn1cc2cc(NC(=O)c3cccc(C(F)(F)F)n3)c(C...</td>\n",
       "      <td>emolecules</td>\n",
       "      <td>0.996380</td>\n",
       "      <td>1.010597</td>\n",
       "      <td>1.015611</td>\n",
       "      <td>1.092264</td>\n",
       "      <td>1.629093</td>\n",
       "      <td>NaN</td>\n",
       "    </tr>\n",
       "    <tr>\n",
       "      <th>6</th>\n",
       "      <td>Mol7</td>\n",
       "      <td>299985775</td>\n",
       "      <td>CC(C)NCC(O)COc1cccc2ccccc12</td>\n",
       "      <td>emolecules</td>\n",
       "      <td>1.327232</td>\n",
       "      <td>-0.162401</td>\n",
       "      <td>NaN</td>\n",
       "      <td>1.347759</td>\n",
       "      <td>3.318276</td>\n",
       "      <td>NaN</td>\n",
       "    </tr>\n",
       "    <tr>\n",
       "      <th>7</th>\n",
       "      <td>Mol8</td>\n",
       "      <td>538570</td>\n",
       "      <td>COc1ccc(Cl)cc1C(=O)NCCc1ccc(S(=O)(=O)NC(=O)NC2...</td>\n",
       "      <td>emolecules</td>\n",
       "      <td>1.458063</td>\n",
       "      <td>2.091561</td>\n",
       "      <td>-0.917215</td>\n",
       "      <td>-0.943095</td>\n",
       "      <td>2.728062</td>\n",
       "      <td>NaN</td>\n",
       "    </tr>\n",
       "    <tr>\n",
       "      <th>9</th>\n",
       "      <td>Mol10</td>\n",
       "      <td>44811418</td>\n",
       "      <td>CC(C)NC(=O)COc1cccc(-c2nc(Nc3ccc4[nH]ncc4c3)c3...</td>\n",
       "      <td>emolecules</td>\n",
       "      <td>1.630824</td>\n",
       "      <td>1.301829</td>\n",
       "      <td>-1.384078</td>\n",
       "      <td>-0.504456</td>\n",
       "      <td>3.192741</td>\n",
       "      <td>NaN</td>\n",
       "    </tr>\n",
       "    <tr>\n",
       "      <th>...</th>\n",
       "      <td>...</td>\n",
       "      <td>...</td>\n",
       "      <td>...</td>\n",
       "      <td>...</td>\n",
       "      <td>...</td>\n",
       "      <td>...</td>\n",
       "      <td>...</td>\n",
       "      <td>...</td>\n",
       "      <td>...</td>\n",
       "      <td>...</td>\n",
       "    </tr>\n",
       "    <tr>\n",
       "      <th>3516</th>\n",
       "      <td>Mol3517</td>\n",
       "      <td>43258693</td>\n",
       "      <td>O=C(c1ccc2c(c1)CCCC2)N1CCOCC1c1ccn[nH]1</td>\n",
       "      <td>emolecules</td>\n",
       "      <td>NaN</td>\n",
       "      <td>0.606813</td>\n",
       "      <td>NaN</td>\n",
       "      <td>NaN</td>\n",
       "      <td>NaN</td>\n",
       "      <td>NaN</td>\n",
       "    </tr>\n",
       "    <tr>\n",
       "      <th>3517</th>\n",
       "      <td>Mol3518</td>\n",
       "      <td>27448206</td>\n",
       "      <td>O=C(Nc1nc2ccccc2[nH]1)c1ccc(-n2cccc2)cc1</td>\n",
       "      <td>emolecules</td>\n",
       "      <td>NaN</td>\n",
       "      <td>-0.444495</td>\n",
       "      <td>NaN</td>\n",
       "      <td>NaN</td>\n",
       "      <td>NaN</td>\n",
       "      <td>NaN</td>\n",
       "    </tr>\n",
       "    <tr>\n",
       "      <th>3518</th>\n",
       "      <td>Mol3519</td>\n",
       "      <td>207150215</td>\n",
       "      <td>NC(=O)c1noc([C@@H](CCCC2CCCCC2)CC(=O)NO)n1</td>\n",
       "      <td>emolecules</td>\n",
       "      <td>0.863799</td>\n",
       "      <td>NaN</td>\n",
       "      <td>NaN</td>\n",
       "      <td>NaN</td>\n",
       "      <td>NaN</td>\n",
       "      <td>NaN</td>\n",
       "    </tr>\n",
       "    <tr>\n",
       "      <th>3519</th>\n",
       "      <td>Mol3520</td>\n",
       "      <td>25037224</td>\n",
       "      <td>CCCCCCCCc1ccc(CC[C@](N)(CO)COP(=O)(O)O)cc1</td>\n",
       "      <td>emolecules</td>\n",
       "      <td>0.881385</td>\n",
       "      <td>NaN</td>\n",
       "      <td>NaN</td>\n",
       "      <td>NaN</td>\n",
       "      <td>NaN</td>\n",
       "      <td>NaN</td>\n",
       "    </tr>\n",
       "    <tr>\n",
       "      <th>3520</th>\n",
       "      <td>Mol3521</td>\n",
       "      <td>53744885</td>\n",
       "      <td>Cc1cccc(/C=N/Nc2cc(N3CCOCC3)n3nc(-c4ccncc4)cc3...</td>\n",
       "      <td>emolecules</td>\n",
       "      <td>1.507059</td>\n",
       "      <td>NaN</td>\n",
       "      <td>NaN</td>\n",
       "      <td>NaN</td>\n",
       "      <td>NaN</td>\n",
       "      <td>NaN</td>\n",
       "    </tr>\n",
       "  </tbody>\n",
       "</table>\n",
       "<p>1348 rows × 10 columns</p>\n",
       "</div>"
      ],
      "text/plain": [
       "         Name  Vendor ID                                             SMILES  \\\n",
       "2        Mol3  304005766                        CN(c1ncc(F)cn1)[C@H]1CCCNC1   \n",
       "4        Mol5  324059015  CC(C)(O)CCn1cc2cc(NC(=O)c3cccc(C(F)(F)F)n3)c(C...   \n",
       "6        Mol7  299985775                        CC(C)NCC(O)COc1cccc2ccccc12   \n",
       "7        Mol8     538570  COc1ccc(Cl)cc1C(=O)NCCc1ccc(S(=O)(=O)NC(=O)NC2...   \n",
       "9       Mol10   44811418  CC(C)NC(=O)COc1cccc(-c2nc(Nc3ccc4[nH]ncc4c3)c3...   \n",
       "...       ...        ...                                                ...   \n",
       "3516  Mol3517   43258693            O=C(c1ccc2c(c1)CCCC2)N1CCOCC1c1ccn[nH]1   \n",
       "3517  Mol3518   27448206           O=C(Nc1nc2ccccc2[nH]1)c1ccc(-n2cccc2)cc1   \n",
       "3518  Mol3519  207150215         NC(=O)c1noc([C@@H](CCCC2CCCCC2)CC(=O)NO)n1   \n",
       "3519  Mol3520   25037224         CCCCCCCCc1ccc(CC[C@](N)(CO)COP(=O)(O)O)cc1   \n",
       "3520  Mol3521   53744885  Cc1cccc(/C=N/Nc2cc(N3CCOCC3)n3nc(-c4ccncc4)cc3...   \n",
       "\n",
       "     CollectionName  HLM_CLint        ER      HPPB      RPPB  RLM_CLint  Sol  \n",
       "2        emolecules   0.675687 -0.358806  2.000000  2.000000   1.027920  NaN  \n",
       "4        emolecules   0.996380  1.010597  1.015611  1.092264   1.629093  NaN  \n",
       "6        emolecules   1.327232 -0.162401       NaN  1.347759   3.318276  NaN  \n",
       "7        emolecules   1.458063  2.091561 -0.917215 -0.943095   2.728062  NaN  \n",
       "9        emolecules   1.630824  1.301829 -1.384078 -0.504456   3.192741  NaN  \n",
       "...             ...        ...       ...       ...       ...        ...  ...  \n",
       "3516     emolecules        NaN  0.606813       NaN       NaN        NaN  NaN  \n",
       "3517     emolecules        NaN -0.444495       NaN       NaN        NaN  NaN  \n",
       "3518     emolecules   0.863799       NaN       NaN       NaN        NaN  NaN  \n",
       "3519     emolecules   0.881385       NaN       NaN       NaN        NaN  NaN  \n",
       "3520     emolecules   1.507059       NaN       NaN       NaN        NaN  NaN  \n",
       "\n",
       "[1348 rows x 10 columns]"
      ]
     },
     "execution_count": 23,
     "metadata": {},
     "output_type": "execute_result"
    }
   ],
   "source": [
    "df_rest"
   ]
  },
  {
   "cell_type": "markdown",
   "id": "4397e35b",
   "metadata": {},
   "source": [
    "There are some sizeable series, so go ahead with scaffold split"
   ]
  },
  {
   "cell_type": "code",
   "execution_count": 24,
   "id": "0c587d85",
   "metadata": {
    "tags": []
   },
   "outputs": [
    {
     "data": {
      "text/html": [
       "<div>\n",
       "<style scoped>\n",
       "    .dataframe tbody tr th:only-of-type {\n",
       "        vertical-align: middle;\n",
       "    }\n",
       "\n",
       "    .dataframe tbody tr th {\n",
       "        vertical-align: top;\n",
       "    }\n",
       "\n",
       "    .dataframe thead th {\n",
       "        text-align: right;\n",
       "    }\n",
       "</style>\n",
       "<table border=\"1\" class=\"dataframe\">\n",
       "  <thead>\n",
       "    <tr style=\"text-align: right;\">\n",
       "      <th></th>\n",
       "      <th>Item</th>\n",
       "      <th>Count</th>\n",
       "    </tr>\n",
       "  </thead>\n",
       "  <tbody>\n",
       "    <tr>\n",
       "      <th>0</th>\n",
       "      <td>c1ccccc1</td>\n",
       "      <td>50</td>\n",
       "    </tr>\n",
       "    <tr>\n",
       "      <th>1</th>\n",
       "      <td>c1ccc2ncccc2c1</td>\n",
       "      <td>16</td>\n",
       "    </tr>\n",
       "    <tr>\n",
       "      <th>2</th>\n",
       "      <td>c1ccncc1</td>\n",
       "      <td>16</td>\n",
       "    </tr>\n",
       "    <tr>\n",
       "      <th>3</th>\n",
       "      <td>c1ccc(-n2cccn2)cc1</td>\n",
       "      <td>12</td>\n",
       "    </tr>\n",
       "    <tr>\n",
       "      <th>4</th>\n",
       "      <td>O=C(CN1CCCN(c2ccccn2)CC1)Nc1ccccc1</td>\n",
       "      <td>10</td>\n",
       "    </tr>\n",
       "    <tr>\n",
       "      <th>5</th>\n",
       "      <td>c1ccc(-c2cscn2)cc1</td>\n",
       "      <td>10</td>\n",
       "    </tr>\n",
       "    <tr>\n",
       "      <th>6</th>\n",
       "      <td>c1cn[nH]c1</td>\n",
       "      <td>10</td>\n",
       "    </tr>\n",
       "    <tr>\n",
       "      <th>7</th>\n",
       "      <td>c1ccc2[nH]cnc2c1</td>\n",
       "      <td>8</td>\n",
       "    </tr>\n",
       "    <tr>\n",
       "      <th>8</th>\n",
       "      <td>c1ccc2[nH]ccc2c1</td>\n",
       "      <td>8</td>\n",
       "    </tr>\n",
       "    <tr>\n",
       "      <th>9</th>\n",
       "      <td>O=S(=O)(Nc1ccccc1)c1ccccc1</td>\n",
       "      <td>8</td>\n",
       "    </tr>\n",
       "    <tr>\n",
       "      <th>10</th>\n",
       "      <td>O=C(Nc1ccccc1)c1scnc1-c1ccccc1</td>\n",
       "      <td>7</td>\n",
       "    </tr>\n",
       "    <tr>\n",
       "      <th>11</th>\n",
       "      <td>c1ccc(-c2ccccn2)cc1</td>\n",
       "      <td>7</td>\n",
       "    </tr>\n",
       "    <tr>\n",
       "      <th>12</th>\n",
       "      <td>c1ccc2occc2c1</td>\n",
       "      <td>6</td>\n",
       "    </tr>\n",
       "    <tr>\n",
       "      <th>13</th>\n",
       "      <td>c1ccc(Cn2cccn2)cc1</td>\n",
       "      <td>6</td>\n",
       "    </tr>\n",
       "    <tr>\n",
       "      <th>14</th>\n",
       "      <td>c1ccc(-c2ccccc2)cc1</td>\n",
       "      <td>6</td>\n",
       "    </tr>\n",
       "    <tr>\n",
       "      <th>15</th>\n",
       "      <td>O=C(CN1CCCC(c2nc3ccccc3o2)C1)Nc1ccccc1</td>\n",
       "      <td>6</td>\n",
       "    </tr>\n",
       "    <tr>\n",
       "      <th>16</th>\n",
       "      <td>O=C(Cc1ccccc1)Nc1ccccc1</td>\n",
       "      <td>6</td>\n",
       "    </tr>\n",
       "    <tr>\n",
       "      <th>17</th>\n",
       "      <td>c1ccc(Oc2ccccn2)cc1</td>\n",
       "      <td>6</td>\n",
       "    </tr>\n",
       "    <tr>\n",
       "      <th>18</th>\n",
       "      <td>C1CCNCC1</td>\n",
       "      <td>6</td>\n",
       "    </tr>\n",
       "    <tr>\n",
       "      <th>19</th>\n",
       "      <td>c1ccc(-c2ncn[nH]2)cc1</td>\n",
       "      <td>5</td>\n",
       "    </tr>\n",
       "  </tbody>\n",
       "</table>\n",
       "</div>"
      ],
      "text/plain": [
       "                                      Item  Count\n",
       "0                                 c1ccccc1     50\n",
       "1                           c1ccc2ncccc2c1     16\n",
       "2                                 c1ccncc1     16\n",
       "3                       c1ccc(-n2cccn2)cc1     12\n",
       "4       O=C(CN1CCCN(c2ccccn2)CC1)Nc1ccccc1     10\n",
       "5                       c1ccc(-c2cscn2)cc1     10\n",
       "6                               c1cn[nH]c1     10\n",
       "7                         c1ccc2[nH]cnc2c1      8\n",
       "8                         c1ccc2[nH]ccc2c1      8\n",
       "9               O=S(=O)(Nc1ccccc1)c1ccccc1      8\n",
       "10          O=C(Nc1ccccc1)c1scnc1-c1ccccc1      7\n",
       "11                     c1ccc(-c2ccccn2)cc1      7\n",
       "12                           c1ccc2occc2c1      6\n",
       "13                      c1ccc(Cn2cccn2)cc1      6\n",
       "14                     c1ccc(-c2ccccc2)cc1      6\n",
       "15  O=C(CN1CCCC(c2nc3ccccc3o2)C1)Nc1ccccc1      6\n",
       "16                 O=C(Cc1ccccc1)Nc1ccccc1      6\n",
       "17                     c1ccc(Oc2ccccn2)cc1      6\n",
       "18                                C1CCNCC1      6\n",
       "19                   c1ccc(-c2ncn[nH]2)cc1      5"
      ]
     },
     "execution_count": 24,
     "metadata": {},
     "output_type": "execute_result"
    }
   ],
   "source": [
    "from helper import scaffold_to_smiles\n",
    "\n",
    "scaffold_to_indices = scaffold_to_smiles(df_ok.SMILES, use_indices=True)\n",
    "counts = {key: len(value) for key, value in scaffold_to_indices.items()}\n",
    "df = pd.DataFrame(counts.items(), columns=['Item', 'Count'])\n",
    "df_sorted = df.sort_values(by='Count', ascending=False).reset_index(drop=True)\n",
    "df_sorted.head(20)"
   ]
  },
  {
   "cell_type": "markdown",
   "id": "0f347b21",
   "metadata": {},
   "source": [
    "Write the splits to disk. Supress warnings because we're writing floats and NAs in a column. "
   ]
  },
  {
   "cell_type": "code",
   "execution_count": 25,
   "id": "02cfab3b",
   "metadata": {
    "tags": []
   },
   "outputs": [],
   "source": [
    "df_sol.to_csv(\"sol_processed.csv\", index=False)"
   ]
  },
  {
   "cell_type": "code",
   "execution_count": 29,
   "id": "bc3fe3a5",
   "metadata": {
    "tags": []
   },
   "outputs": [],
   "source": [
    "import os\n",
    "import pandas as pd\n",
    "from sklearn.model_selection import RepeatedStratifiedKFold, train_test_split\n",
    "from tqdm import tqdm\n",
    "import warnings\n",
    "\n",
    "import useful_rdkit_utils as uru"
   ]
  },
  {
   "cell_type": "code",
   "execution_count": 30,
   "id": "eaf440fb",
   "metadata": {},
   "outputs": [],
   "source": [
    "n_outer = 5; n_inner = 5; y_col = \"Sol\""
   ]
  },
  {
   "cell_type": "code",
   "execution_count": 31,
   "id": "51f0df86",
   "metadata": {},
   "outputs": [],
   "source": [
    "group_list = [(\"random\", uru.get_random_split),\n",
    "            (\"scaffold\", uru.get_bemis_murcko_clusters)]"
   ]
  },
  {
   "cell_type": "code",
   "execution_count": 32,
   "id": "c7036eab",
   "metadata": {
    "tags": []
   },
   "outputs": [
    {
     "name": "stderr",
     "output_type": "stream",
     "text": [
      "  0%|          | 0/5 [00:00<?, ?it/s]\n",
      "  0%|          | 0/5 [00:00<?, ?it/s]\u001b[A\n",
      "100%|██████████| 5/5 [00:00<00:00, 45.67it/s]\u001b[A\n",
      "                                             \u001b[A\n",
      "  0%|          | 0/5 [00:00<?, ?it/s]\u001b[A\n",
      "100%|██████████| 5/5 [00:00<00:00, 47.46it/s]\u001b[A\n",
      " 20%|██        | 1/5 [00:01<00:04,  1.04s/it]\u001b[A\n",
      "  0%|          | 0/5 [00:00<?, ?it/s]\u001b[A\n",
      "100%|██████████| 5/5 [00:00<00:00, 47.17it/s]\u001b[A\n",
      "                                             \u001b[A\n",
      "  0%|          | 0/5 [00:00<?, ?it/s]\u001b[A\n",
      "100%|██████████| 5/5 [00:00<00:00, 46.85it/s]\u001b[A\n",
      " 40%|████      | 2/5 [00:02<00:03,  1.04s/it]\u001b[A\n",
      "  0%|          | 0/5 [00:00<?, ?it/s]\u001b[A\n",
      "100%|██████████| 5/5 [00:00<00:00, 46.63it/s]\u001b[A\n",
      "                                             \u001b[A\n",
      "  0%|          | 0/5 [00:00<?, ?it/s]\u001b[A\n",
      "100%|██████████| 5/5 [00:00<00:00, 47.47it/s]\u001b[A\n",
      " 60%|██████    | 3/5 [00:03<00:02,  1.04s/it]\u001b[A\n",
      "  0%|          | 0/5 [00:00<?, ?it/s]\u001b[A\n",
      "100%|██████████| 5/5 [00:00<00:00, 46.94it/s]\u001b[A\n",
      "                                             \u001b[A\n",
      "  0%|          | 0/5 [00:00<?, ?it/s]\u001b[A\n",
      "100%|██████████| 5/5 [00:00<00:00, 47.43it/s]\u001b[A\n",
      " 80%|████████  | 4/5 [00:04<00:01,  1.04s/it]\u001b[A\n",
      "  0%|          | 0/5 [00:00<?, ?it/s]\u001b[A\n",
      "100%|██████████| 5/5 [00:00<00:00, 46.70it/s]\u001b[A\n",
      "                                             \u001b[A\n",
      "  0%|          | 0/5 [00:00<?, ?it/s]\u001b[A\n",
      "100%|██████████| 5/5 [00:00<00:00, 47.33it/s]\u001b[A\n",
      "                                             \u001b[A\r"
     ]
    }
   ],
   "source": [
    "base_name = \"data/Sol_repeated\"\n",
    "\n",
    "df_sol['Sol_bins'] = pd.cut(df_sol['Sol'], bins=10, labels=False)\n",
    "df = df_sol.copy()\n",
    "metric_vals = []\n",
    "fold_df_list = []\n",
    "input_cols = df.columns\n",
    "for i in tqdm(range(0, n_outer), leave=False):\n",
    "    kf = uru.GroupKFoldShuffle(n_splits=n_inner, shuffle=True)\n",
    "    for group_name, group_func in group_list:\n",
    "        # assign groups based on cluster, scaffold, etc\n",
    "        prefix = f\"{group_name}\"\n",
    "        current_group = group_func(df.SMILES)\n",
    "        for j, [train_idx, test_idx] in enumerate(\n",
    "                tqdm(kf.split(df, groups=current_group), total=n_inner, leave=False)):\n",
    "            fold = i * n_outer + j\n",
    "\n",
    "            dir_name = f\"{base_name}{fold:03d}\"\n",
    "            if not os.path.exists(dir_name):\n",
    "                os.mkdir(dir_name)\n",
    "            \n",
    "            train = df.iloc[train_idx].copy()\n",
    "            test = df.iloc[test_idx].copy()\n",
    "\n",
    "            train['dset'] = 'train'\n",
    "            test['dset'] = 'test'\n",
    "            train['group'] = group_name\n",
    "            test['group'] = group_name\n",
    "            train['fold'] = fold\n",
    "            test['fold'] = fold\n",
    "\n",
    "            train, val = train_test_split(train, test_size=0.1, stratify=train['Sol_bins'], random_state=fold)\n",
    "\n",
    "            # if group_name == 'random':\n",
    "            #     train, val = train_test_split(train, test_size=0.1, stratify=train['Sol_bins'], random_state=fold)\n",
    "            # else:\n",
    "            #     scaf_train, scaf_val = scaffold_split(train.SMILES, sizes=(0.9, 0.1), seed=fold)\n",
    "            #     val = train.iloc[scaf_val]\n",
    "            #     train = train.iloc[scaf_train]\n",
    "\n",
    "            st_cols = [\"SMILES\", \"Name\", \"Sol\"]\n",
    "            train[st_cols].to_csv(f\"{dir_name}/{prefix}_train_{fold:03d}.csv\", index=False)\n",
    "            val[st_cols].to_csv(f\"{dir_name}/{prefix}_val_{fold:03d}.csv\", index=False)\n",
    "            test[st_cols].to_csv(f\"{dir_name}/{prefix}_test_{fold:03d}.csv\", index=False)\n",
    "\n",
    "            mt_cols = [\"SMILES\", \"Name\", \"Sol\", \"HLM_CLint\", \"RLM_CLint\", \"ER\", \"HPPB\", \"RPPB\"]\n",
    "            # rest_train, rest_val = train_test_split(df_rest, test_size=0.2, random_state=fold)\n",
    "            # train = pd.concat([train, rest_train]).sample(frac=1.0)\n",
    "            train[mt_cols].to_csv(f\"{dir_name}/{prefix}_mt_train_{fold:03d}.csv\", index=False)\n",
    "            # val = pd.concat([val, rest_val]).sample(frac=1.0)\n",
    "            val[mt_cols].to_csv(f\"{dir_name}/{prefix}_mt_val_{fold:03d}.csv\", index=False)\n",
    "            test[mt_cols].to_csv(f\"{dir_name}/{prefix}_mt_test_{fold:03d}.csv\", index=False)\n",
    "\n",
    "            fold_df_list.append(pd.concat([train, test]))\n",
    "output_cols = list(input_cols) + ['dset','group','fold']\n",
    "pd.concat(fold_df_list)[output_cols].to_csv(f\"{y_col}_folds_multitask.csv\", index=False)"
   ]
  }
 ],
 "metadata": {
  "availableInstances": [
   {
    "_defaultOrder": 0,
    "_isFastLaunch": true,
    "category": "General purpose",
    "gpuNum": 0,
    "hideHardwareSpecs": false,
    "memoryGiB": 4,
    "name": "ml.t3.medium",
    "vcpuNum": 2
   },
   {
    "_defaultOrder": 1,
    "_isFastLaunch": false,
    "category": "General purpose",
    "gpuNum": 0,
    "hideHardwareSpecs": false,
    "memoryGiB": 8,
    "name": "ml.t3.large",
    "vcpuNum": 2
   },
   {
    "_defaultOrder": 2,
    "_isFastLaunch": false,
    "category": "General purpose",
    "gpuNum": 0,
    "hideHardwareSpecs": false,
    "memoryGiB": 16,
    "name": "ml.t3.xlarge",
    "vcpuNum": 4
   },
   {
    "_defaultOrder": 3,
    "_isFastLaunch": false,
    "category": "General purpose",
    "gpuNum": 0,
    "hideHardwareSpecs": false,
    "memoryGiB": 32,
    "name": "ml.t3.2xlarge",
    "vcpuNum": 8
   },
   {
    "_defaultOrder": 4,
    "_isFastLaunch": true,
    "category": "General purpose",
    "gpuNum": 0,
    "hideHardwareSpecs": false,
    "memoryGiB": 8,
    "name": "ml.m5.large",
    "vcpuNum": 2
   },
   {
    "_defaultOrder": 5,
    "_isFastLaunch": false,
    "category": "General purpose",
    "gpuNum": 0,
    "hideHardwareSpecs": false,
    "memoryGiB": 16,
    "name": "ml.m5.xlarge",
    "vcpuNum": 4
   },
   {
    "_defaultOrder": 6,
    "_isFastLaunch": false,
    "category": "General purpose",
    "gpuNum": 0,
    "hideHardwareSpecs": false,
    "memoryGiB": 32,
    "name": "ml.m5.2xlarge",
    "vcpuNum": 8
   },
   {
    "_defaultOrder": 7,
    "_isFastLaunch": false,
    "category": "General purpose",
    "gpuNum": 0,
    "hideHardwareSpecs": false,
    "memoryGiB": 64,
    "name": "ml.m5.4xlarge",
    "vcpuNum": 16
   },
   {
    "_defaultOrder": 8,
    "_isFastLaunch": false,
    "category": "General purpose",
    "gpuNum": 0,
    "hideHardwareSpecs": false,
    "memoryGiB": 128,
    "name": "ml.m5.8xlarge",
    "vcpuNum": 32
   },
   {
    "_defaultOrder": 9,
    "_isFastLaunch": false,
    "category": "General purpose",
    "gpuNum": 0,
    "hideHardwareSpecs": false,
    "memoryGiB": 192,
    "name": "ml.m5.12xlarge",
    "vcpuNum": 48
   },
   {
    "_defaultOrder": 10,
    "_isFastLaunch": false,
    "category": "General purpose",
    "gpuNum": 0,
    "hideHardwareSpecs": false,
    "memoryGiB": 256,
    "name": "ml.m5.16xlarge",
    "vcpuNum": 64
   },
   {
    "_defaultOrder": 11,
    "_isFastLaunch": false,
    "category": "General purpose",
    "gpuNum": 0,
    "hideHardwareSpecs": false,
    "memoryGiB": 384,
    "name": "ml.m5.24xlarge",
    "vcpuNum": 96
   },
   {
    "_defaultOrder": 12,
    "_isFastLaunch": false,
    "category": "General purpose",
    "gpuNum": 0,
    "hideHardwareSpecs": false,
    "memoryGiB": 8,
    "name": "ml.m5d.large",
    "vcpuNum": 2
   },
   {
    "_defaultOrder": 13,
    "_isFastLaunch": false,
    "category": "General purpose",
    "gpuNum": 0,
    "hideHardwareSpecs": false,
    "memoryGiB": 16,
    "name": "ml.m5d.xlarge",
    "vcpuNum": 4
   },
   {
    "_defaultOrder": 14,
    "_isFastLaunch": false,
    "category": "General purpose",
    "gpuNum": 0,
    "hideHardwareSpecs": false,
    "memoryGiB": 32,
    "name": "ml.m5d.2xlarge",
    "vcpuNum": 8
   },
   {
    "_defaultOrder": 15,
    "_isFastLaunch": false,
    "category": "General purpose",
    "gpuNum": 0,
    "hideHardwareSpecs": false,
    "memoryGiB": 64,
    "name": "ml.m5d.4xlarge",
    "vcpuNum": 16
   },
   {
    "_defaultOrder": 16,
    "_isFastLaunch": false,
    "category": "General purpose",
    "gpuNum": 0,
    "hideHardwareSpecs": false,
    "memoryGiB": 128,
    "name": "ml.m5d.8xlarge",
    "vcpuNum": 32
   },
   {
    "_defaultOrder": 17,
    "_isFastLaunch": false,
    "category": "General purpose",
    "gpuNum": 0,
    "hideHardwareSpecs": false,
    "memoryGiB": 192,
    "name": "ml.m5d.12xlarge",
    "vcpuNum": 48
   },
   {
    "_defaultOrder": 18,
    "_isFastLaunch": false,
    "category": "General purpose",
    "gpuNum": 0,
    "hideHardwareSpecs": false,
    "memoryGiB": 256,
    "name": "ml.m5d.16xlarge",
    "vcpuNum": 64
   },
   {
    "_defaultOrder": 19,
    "_isFastLaunch": false,
    "category": "General purpose",
    "gpuNum": 0,
    "hideHardwareSpecs": false,
    "memoryGiB": 384,
    "name": "ml.m5d.24xlarge",
    "vcpuNum": 96
   },
   {
    "_defaultOrder": 20,
    "_isFastLaunch": false,
    "category": "General purpose",
    "gpuNum": 0,
    "hideHardwareSpecs": true,
    "memoryGiB": 0,
    "name": "ml.geospatial.interactive",
    "supportedImageNames": [
     "sagemaker-geospatial-v1-0"
    ],
    "vcpuNum": 0
   },
   {
    "_defaultOrder": 21,
    "_isFastLaunch": true,
    "category": "Compute optimized",
    "gpuNum": 0,
    "hideHardwareSpecs": false,
    "memoryGiB": 4,
    "name": "ml.c5.large",
    "vcpuNum": 2
   },
   {
    "_defaultOrder": 22,
    "_isFastLaunch": false,
    "category": "Compute optimized",
    "gpuNum": 0,
    "hideHardwareSpecs": false,
    "memoryGiB": 8,
    "name": "ml.c5.xlarge",
    "vcpuNum": 4
   },
   {
    "_defaultOrder": 23,
    "_isFastLaunch": false,
    "category": "Compute optimized",
    "gpuNum": 0,
    "hideHardwareSpecs": false,
    "memoryGiB": 16,
    "name": "ml.c5.2xlarge",
    "vcpuNum": 8
   },
   {
    "_defaultOrder": 24,
    "_isFastLaunch": false,
    "category": "Compute optimized",
    "gpuNum": 0,
    "hideHardwareSpecs": false,
    "memoryGiB": 32,
    "name": "ml.c5.4xlarge",
    "vcpuNum": 16
   },
   {
    "_defaultOrder": 25,
    "_isFastLaunch": false,
    "category": "Compute optimized",
    "gpuNum": 0,
    "hideHardwareSpecs": false,
    "memoryGiB": 72,
    "name": "ml.c5.9xlarge",
    "vcpuNum": 36
   },
   {
    "_defaultOrder": 26,
    "_isFastLaunch": false,
    "category": "Compute optimized",
    "gpuNum": 0,
    "hideHardwareSpecs": false,
    "memoryGiB": 96,
    "name": "ml.c5.12xlarge",
    "vcpuNum": 48
   },
   {
    "_defaultOrder": 27,
    "_isFastLaunch": false,
    "category": "Compute optimized",
    "gpuNum": 0,
    "hideHardwareSpecs": false,
    "memoryGiB": 144,
    "name": "ml.c5.18xlarge",
    "vcpuNum": 72
   },
   {
    "_defaultOrder": 28,
    "_isFastLaunch": false,
    "category": "Compute optimized",
    "gpuNum": 0,
    "hideHardwareSpecs": false,
    "memoryGiB": 192,
    "name": "ml.c5.24xlarge",
    "vcpuNum": 96
   },
   {
    "_defaultOrder": 29,
    "_isFastLaunch": true,
    "category": "Accelerated computing",
    "gpuNum": 1,
    "hideHardwareSpecs": false,
    "memoryGiB": 16,
    "name": "ml.g4dn.xlarge",
    "vcpuNum": 4
   },
   {
    "_defaultOrder": 30,
    "_isFastLaunch": false,
    "category": "Accelerated computing",
    "gpuNum": 1,
    "hideHardwareSpecs": false,
    "memoryGiB": 32,
    "name": "ml.g4dn.2xlarge",
    "vcpuNum": 8
   },
   {
    "_defaultOrder": 31,
    "_isFastLaunch": false,
    "category": "Accelerated computing",
    "gpuNum": 1,
    "hideHardwareSpecs": false,
    "memoryGiB": 64,
    "name": "ml.g4dn.4xlarge",
    "vcpuNum": 16
   },
   {
    "_defaultOrder": 32,
    "_isFastLaunch": false,
    "category": "Accelerated computing",
    "gpuNum": 1,
    "hideHardwareSpecs": false,
    "memoryGiB": 128,
    "name": "ml.g4dn.8xlarge",
    "vcpuNum": 32
   },
   {
    "_defaultOrder": 33,
    "_isFastLaunch": false,
    "category": "Accelerated computing",
    "gpuNum": 4,
    "hideHardwareSpecs": false,
    "memoryGiB": 192,
    "name": "ml.g4dn.12xlarge",
    "vcpuNum": 48
   },
   {
    "_defaultOrder": 34,
    "_isFastLaunch": false,
    "category": "Accelerated computing",
    "gpuNum": 1,
    "hideHardwareSpecs": false,
    "memoryGiB": 256,
    "name": "ml.g4dn.16xlarge",
    "vcpuNum": 64
   },
   {
    "_defaultOrder": 35,
    "_isFastLaunch": false,
    "category": "Accelerated computing",
    "gpuNum": 1,
    "hideHardwareSpecs": false,
    "memoryGiB": 61,
    "name": "ml.p3.2xlarge",
    "vcpuNum": 8
   },
   {
    "_defaultOrder": 36,
    "_isFastLaunch": false,
    "category": "Accelerated computing",
    "gpuNum": 4,
    "hideHardwareSpecs": false,
    "memoryGiB": 244,
    "name": "ml.p3.8xlarge",
    "vcpuNum": 32
   },
   {
    "_defaultOrder": 37,
    "_isFastLaunch": false,
    "category": "Accelerated computing",
    "gpuNum": 8,
    "hideHardwareSpecs": false,
    "memoryGiB": 488,
    "name": "ml.p3.16xlarge",
    "vcpuNum": 64
   },
   {
    "_defaultOrder": 38,
    "_isFastLaunch": false,
    "category": "Accelerated computing",
    "gpuNum": 8,
    "hideHardwareSpecs": false,
    "memoryGiB": 768,
    "name": "ml.p3dn.24xlarge",
    "vcpuNum": 96
   },
   {
    "_defaultOrder": 39,
    "_isFastLaunch": false,
    "category": "Memory Optimized",
    "gpuNum": 0,
    "hideHardwareSpecs": false,
    "memoryGiB": 16,
    "name": "ml.r5.large",
    "vcpuNum": 2
   },
   {
    "_defaultOrder": 40,
    "_isFastLaunch": false,
    "category": "Memory Optimized",
    "gpuNum": 0,
    "hideHardwareSpecs": false,
    "memoryGiB": 32,
    "name": "ml.r5.xlarge",
    "vcpuNum": 4
   },
   {
    "_defaultOrder": 41,
    "_isFastLaunch": false,
    "category": "Memory Optimized",
    "gpuNum": 0,
    "hideHardwareSpecs": false,
    "memoryGiB": 64,
    "name": "ml.r5.2xlarge",
    "vcpuNum": 8
   },
   {
    "_defaultOrder": 42,
    "_isFastLaunch": false,
    "category": "Memory Optimized",
    "gpuNum": 0,
    "hideHardwareSpecs": false,
    "memoryGiB": 128,
    "name": "ml.r5.4xlarge",
    "vcpuNum": 16
   },
   {
    "_defaultOrder": 43,
    "_isFastLaunch": false,
    "category": "Memory Optimized",
    "gpuNum": 0,
    "hideHardwareSpecs": false,
    "memoryGiB": 256,
    "name": "ml.r5.8xlarge",
    "vcpuNum": 32
   },
   {
    "_defaultOrder": 44,
    "_isFastLaunch": false,
    "category": "Memory Optimized",
    "gpuNum": 0,
    "hideHardwareSpecs": false,
    "memoryGiB": 384,
    "name": "ml.r5.12xlarge",
    "vcpuNum": 48
   },
   {
    "_defaultOrder": 45,
    "_isFastLaunch": false,
    "category": "Memory Optimized",
    "gpuNum": 0,
    "hideHardwareSpecs": false,
    "memoryGiB": 512,
    "name": "ml.r5.16xlarge",
    "vcpuNum": 64
   },
   {
    "_defaultOrder": 46,
    "_isFastLaunch": false,
    "category": "Memory Optimized",
    "gpuNum": 0,
    "hideHardwareSpecs": false,
    "memoryGiB": 768,
    "name": "ml.r5.24xlarge",
    "vcpuNum": 96
   },
   {
    "_defaultOrder": 47,
    "_isFastLaunch": false,
    "category": "Accelerated computing",
    "gpuNum": 1,
    "hideHardwareSpecs": false,
    "memoryGiB": 16,
    "name": "ml.g5.xlarge",
    "vcpuNum": 4
   },
   {
    "_defaultOrder": 48,
    "_isFastLaunch": false,
    "category": "Accelerated computing",
    "gpuNum": 1,
    "hideHardwareSpecs": false,
    "memoryGiB": 32,
    "name": "ml.g5.2xlarge",
    "vcpuNum": 8
   },
   {
    "_defaultOrder": 49,
    "_isFastLaunch": false,
    "category": "Accelerated computing",
    "gpuNum": 1,
    "hideHardwareSpecs": false,
    "memoryGiB": 64,
    "name": "ml.g5.4xlarge",
    "vcpuNum": 16
   },
   {
    "_defaultOrder": 50,
    "_isFastLaunch": false,
    "category": "Accelerated computing",
    "gpuNum": 1,
    "hideHardwareSpecs": false,
    "memoryGiB": 128,
    "name": "ml.g5.8xlarge",
    "vcpuNum": 32
   },
   {
    "_defaultOrder": 51,
    "_isFastLaunch": false,
    "category": "Accelerated computing",
    "gpuNum": 1,
    "hideHardwareSpecs": false,
    "memoryGiB": 256,
    "name": "ml.g5.16xlarge",
    "vcpuNum": 64
   },
   {
    "_defaultOrder": 52,
    "_isFastLaunch": false,
    "category": "Accelerated computing",
    "gpuNum": 4,
    "hideHardwareSpecs": false,
    "memoryGiB": 192,
    "name": "ml.g5.12xlarge",
    "vcpuNum": 48
   },
   {
    "_defaultOrder": 53,
    "_isFastLaunch": false,
    "category": "Accelerated computing",
    "gpuNum": 4,
    "hideHardwareSpecs": false,
    "memoryGiB": 384,
    "name": "ml.g5.24xlarge",
    "vcpuNum": 96
   },
   {
    "_defaultOrder": 54,
    "_isFastLaunch": false,
    "category": "Accelerated computing",
    "gpuNum": 8,
    "hideHardwareSpecs": false,
    "memoryGiB": 768,
    "name": "ml.g5.48xlarge",
    "vcpuNum": 192
   },
   {
    "_defaultOrder": 55,
    "_isFastLaunch": false,
    "category": "Accelerated computing",
    "gpuNum": 8,
    "hideHardwareSpecs": false,
    "memoryGiB": 1152,
    "name": "ml.p4d.24xlarge",
    "vcpuNum": 96
   },
   {
    "_defaultOrder": 56,
    "_isFastLaunch": false,
    "category": "Accelerated computing",
    "gpuNum": 8,
    "hideHardwareSpecs": false,
    "memoryGiB": 1152,
    "name": "ml.p4de.24xlarge",
    "vcpuNum": 96
   },
   {
    "_defaultOrder": 57,
    "_isFastLaunch": false,
    "category": "Accelerated computing",
    "gpuNum": 0,
    "hideHardwareSpecs": false,
    "memoryGiB": 32,
    "name": "ml.trn1.2xlarge",
    "vcpuNum": 8
   },
   {
    "_defaultOrder": 58,
    "_isFastLaunch": false,
    "category": "Accelerated computing",
    "gpuNum": 0,
    "hideHardwareSpecs": false,
    "memoryGiB": 512,
    "name": "ml.trn1.32xlarge",
    "vcpuNum": 128
   },
   {
    "_defaultOrder": 59,
    "_isFastLaunch": false,
    "category": "Accelerated computing",
    "gpuNum": 0,
    "hideHardwareSpecs": false,
    "memoryGiB": 512,
    "name": "ml.trn1n.32xlarge",
    "vcpuNum": 128
   }
  ],
  "kernelspec": {
   "display_name": "Python 3 (ipykernel)",
   "language": "python",
   "name": "python3"
  },
  "language_info": {
   "codemirror_mode": {
    "name": "ipython",
    "version": 3
   },
   "file_extension": ".py",
   "mimetype": "text/x-python",
   "name": "python",
   "nbconvert_exporter": "python",
   "pygments_lexer": "ipython3",
   "version": "3.11.6"
  }
 },
 "nbformat": 4,
 "nbformat_minor": 5
}
