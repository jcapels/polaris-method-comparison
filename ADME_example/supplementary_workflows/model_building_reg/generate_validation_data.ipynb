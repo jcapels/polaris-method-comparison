{
 "cells": [
  {
   "cell_type": "code",
   "execution_count": 1,
   "id": "18c69bbc",
   "metadata": {
    "tags": []
   },
   "outputs": [],
   "source": [
    "import pandas as pd\n",
    "import numpy as np\n",
    "import matplotlib.pyplot as plt\n",
    "from sklearn.model_selection import train_test_split\n",
    "import os\n",
    "from rdkit import Chem\n",
    "from rdkit.Chem import Descriptors\n",
    "from tqdm.auto import tqdm\n",
    "import warnings\n",
    "from helper import scaffold_split"
   ]
  },
  {
   "cell_type": "markdown",
   "id": "2f0a8aaa",
   "metadata": {},
   "source": [
    "Enable Pandas progress apply"
   ]
  },
  {
   "cell_type": "code",
   "execution_count": 2,
   "id": "34de23e5",
   "metadata": {},
   "outputs": [],
   "source": [
    "tqdm.pandas()"
   ]
  },
  {
   "cell_type": "markdown",
   "id": "6559defa",
   "metadata": {},
   "source": [
    "Read the data "
   ]
  },
  {
   "cell_type": "code",
   "execution_count": 3,
   "id": "0a1a64a1",
   "metadata": {
    "tags": []
   },
   "outputs": [],
   "source": [
    "df = pd.read_csv(\"ADME_public_set_3521.csv\")"
   ]
  },
  {
   "cell_type": "code",
   "execution_count": 4,
   "id": "41fa3ada",
   "metadata": {},
   "outputs": [
    {
     "data": {
      "text/html": [
       "<div>\n",
       "<style scoped>\n",
       "    .dataframe tbody tr th:only-of-type {\n",
       "        vertical-align: middle;\n",
       "    }\n",
       "\n",
       "    .dataframe tbody tr th {\n",
       "        vertical-align: top;\n",
       "    }\n",
       "\n",
       "    .dataframe thead th {\n",
       "        text-align: right;\n",
       "    }\n",
       "</style>\n",
       "<table border=\"1\" class=\"dataframe\">\n",
       "  <thead>\n",
       "    <tr style=\"text-align: right;\">\n",
       "      <th></th>\n",
       "      <th>LOG HLM_CLint (mL/min/kg)</th>\n",
       "      <th>LOG MDR1-MDCK ER (B-A/A-B)</th>\n",
       "      <th>LOG SOLUBILITY PH 6.8 (ug/mL)</th>\n",
       "      <th>LOG PLASMA PROTEIN BINDING (HUMAN) (% unbound)</th>\n",
       "      <th>LOG PLASMA PROTEIN BINDING (RAT) (% unbound)</th>\n",
       "      <th>LOG RLM_CLint (mL/min/kg)</th>\n",
       "    </tr>\n",
       "  </thead>\n",
       "  <tbody>\n",
       "    <tr>\n",
       "      <th>count</th>\n",
       "      <td>3087.000000</td>\n",
       "      <td>2642.000000</td>\n",
       "      <td>2173.000000</td>\n",
       "      <td>194.000000</td>\n",
       "      <td>168.000000</td>\n",
       "      <td>3054.000000</td>\n",
       "    </tr>\n",
       "    <tr>\n",
       "      <th>mean</th>\n",
       "      <td>1.320019</td>\n",
       "      <td>0.397829</td>\n",
       "      <td>1.259943</td>\n",
       "      <td>0.765722</td>\n",
       "      <td>0.764177</td>\n",
       "      <td>2.256207</td>\n",
       "    </tr>\n",
       "    <tr>\n",
       "      <th>std</th>\n",
       "      <td>0.623952</td>\n",
       "      <td>0.688465</td>\n",
       "      <td>0.683416</td>\n",
       "      <td>0.847902</td>\n",
       "      <td>0.798988</td>\n",
       "      <td>0.750422</td>\n",
       "    </tr>\n",
       "    <tr>\n",
       "      <th>min</th>\n",
       "      <td>0.675687</td>\n",
       "      <td>-1.162425</td>\n",
       "      <td>-1.000000</td>\n",
       "      <td>-1.593460</td>\n",
       "      <td>-1.638272</td>\n",
       "      <td>1.027920</td>\n",
       "    </tr>\n",
       "    <tr>\n",
       "      <th>25%</th>\n",
       "      <td>0.675687</td>\n",
       "      <td>-0.162356</td>\n",
       "      <td>1.153510</td>\n",
       "      <td>0.168067</td>\n",
       "      <td>0.226564</td>\n",
       "      <td>1.688291</td>\n",
       "    </tr>\n",
       "    <tr>\n",
       "      <th>50%</th>\n",
       "      <td>1.205313</td>\n",
       "      <td>0.153291</td>\n",
       "      <td>1.542825</td>\n",
       "      <td>0.867555</td>\n",
       "      <td>0.776427</td>\n",
       "      <td>2.311068</td>\n",
       "    </tr>\n",
       "    <tr>\n",
       "      <th>75%</th>\n",
       "      <td>1.803115</td>\n",
       "      <td>0.905013</td>\n",
       "      <td>1.687351</td>\n",
       "      <td>1.501953</td>\n",
       "      <td>1.375962</td>\n",
       "      <td>2.835274</td>\n",
       "    </tr>\n",
       "    <tr>\n",
       "      <th>max</th>\n",
       "      <td>3.372714</td>\n",
       "      <td>2.725057</td>\n",
       "      <td>2.179264</td>\n",
       "      <td>2.000000</td>\n",
       "      <td>2.000000</td>\n",
       "      <td>3.969622</td>\n",
       "    </tr>\n",
       "  </tbody>\n",
       "</table>\n",
       "</div>"
      ],
      "text/plain": [
       "       LOG HLM_CLint (mL/min/kg)  LOG MDR1-MDCK ER (B-A/A-B)  \\\n",
       "count                3087.000000                 2642.000000   \n",
       "mean                    1.320019                    0.397829   \n",
       "std                     0.623952                    0.688465   \n",
       "min                     0.675687                   -1.162425   \n",
       "25%                     0.675687                   -0.162356   \n",
       "50%                     1.205313                    0.153291   \n",
       "75%                     1.803115                    0.905013   \n",
       "max                     3.372714                    2.725057   \n",
       "\n",
       "       LOG SOLUBILITY PH 6.8 (ug/mL)  \\\n",
       "count                    2173.000000   \n",
       "mean                        1.259943   \n",
       "std                         0.683416   \n",
       "min                        -1.000000   \n",
       "25%                         1.153510   \n",
       "50%                         1.542825   \n",
       "75%                         1.687351   \n",
       "max                         2.179264   \n",
       "\n",
       "       LOG PLASMA PROTEIN BINDING (HUMAN) (% unbound)  \\\n",
       "count                                      194.000000   \n",
       "mean                                         0.765722   \n",
       "std                                          0.847902   \n",
       "min                                         -1.593460   \n",
       "25%                                          0.168067   \n",
       "50%                                          0.867555   \n",
       "75%                                          1.501953   \n",
       "max                                          2.000000   \n",
       "\n",
       "       LOG PLASMA PROTEIN BINDING (RAT) (% unbound)  LOG RLM_CLint (mL/min/kg)  \n",
       "count                                    168.000000                3054.000000  \n",
       "mean                                       0.764177                   2.256207  \n",
       "std                                        0.798988                   0.750422  \n",
       "min                                       -1.638272                   1.027920  \n",
       "25%                                        0.226564                   1.688291  \n",
       "50%                                        0.776427                   2.311068  \n",
       "75%                                        1.375962                   2.835274  \n",
       "max                                        2.000000                   3.969622  "
      ]
     },
     "execution_count": 4,
     "metadata": {},
     "output_type": "execute_result"
    }
   ],
   "source": [
    "df.describe()"
   ]
  },
  {
   "cell_type": "markdown",
   "id": "15f0e98a",
   "metadata": {},
   "source": [
    "Convert solublity to uM"
   ]
  },
  {
   "cell_type": "code",
   "execution_count": 5,
   "id": "d12d637d",
   "metadata": {
    "tags": []
   },
   "outputs": [],
   "source": [
    "def compute_mol_weight(smiles):\n",
    "    mol = Chem.MolFromSmiles(smiles)\n",
    "    return Descriptors.MolWt(mol)\n",
    "df['Molecular Weight'] = df['SMILES'].apply(compute_mol_weight)\n",
    "df['LOG SOLUBILITY PH 6.8 (uM)'] = ((10**df['LOG SOLUBILITY PH 6.8 (ug/mL)']) * 1000) / df['Molecular Weight']\n",
    "df['LOG SOLUBILITY PH 6.8 (uM)'] = np.log10(df['LOG SOLUBILITY PH 6.8 (uM)'])"
   ]
  },
  {
   "cell_type": "code",
   "execution_count": 6,
   "id": "041b4a9b",
   "metadata": {},
   "outputs": [
    {
     "data": {
      "image/png": "[encoded data removed]",
      "text/plain": [
       "<Figure size 432x288 with 1 Axes>"
      ]
     },
     "metadata": {
      "needs_background": "light"
     },
     "output_type": "display_data"
    }
   ],
   "source": [
    "plt.scatter(df[ \"LOG SOLUBILITY PH 6.8 (uM)\"], df[\"LOG SOLUBILITY PH 6.8 (ug/mL)\"], label='Data Points')\n",
    "min_val = min(df[ \"LOG SOLUBILITY PH 6.8 (uM)\"].min(), df[\"LOG SOLUBILITY PH 6.8 (ug/mL)\"].min())\n",
    "max_val = max(df[ \"LOG SOLUBILITY PH 6.8 (uM)\"].max(), df[\"LOG SOLUBILITY PH 6.8 (ug/mL)\"].max())\n",
    "plt.plot([min_val, max_val], [min_val, max_val], color='red', linestyle='--', label='y=x')\n",
    "plt.xlabel( \"LOG SOLUBILITY PH 6.8 (uM)\")\n",
    "plt.ylabel(\"LOG SOLUBILITY PH 6.8 (ug/mL)\")\n",
    "plt.legend()\n",
    "plt.show()"
   ]
  },
  {
   "cell_type": "code",
   "execution_count": 7,
   "id": "000b5246",
   "metadata": {
    "tags": []
   },
   "outputs": [
    {
     "data": {
      "text/plain": [
       "array([[<AxesSubplot:title={'center':'LOG SOLUBILITY PH 6.8 (uM)'}>,\n",
       "        <AxesSubplot:title={'center':'LOG SOLUBILITY PH 6.8 (ug/mL)'}>]],\n",
       "      dtype=object)"
      ]
     },
     "execution_count": 7,
     "metadata": {},
     "output_type": "execute_result"
    },
    {
     "data": {
      "image/png": "[encoded data removed]",
      "text/plain": [
       "<Figure size 432x288 with 2 Axes>"
      ]
     },
     "metadata": {
      "needs_background": "light"
     },
     "output_type": "display_data"
    }
   ],
   "source": [
    "df[[\"LOG SOLUBILITY PH 6.8 (uM)\", \"LOG SOLUBILITY PH 6.8 (ug/mL)\"]].hist()"
   ]
  },
  {
   "cell_type": "markdown",
   "id": "014d57ce",
   "metadata": {},
   "source": [
    "Add an RDKit molecule to the dataframe.  "
   ]
  },
  {
   "cell_type": "code",
   "execution_count": 8,
   "id": "4a25b3f7",
   "metadata": {
    "tags": []
   },
   "outputs": [
    {
     "data": {
      "application/vnd.jupyter.widget-view+json": {
       "model_id": "ab55a471410b476bac0fefc87ba72e78",
       "version_major": 2,
       "version_minor": 0
      },
      "text/plain": [
       "  0%|          | 0/3521 [00:00<?, ?it/s]"
      ]
     },
     "metadata": {},
     "output_type": "display_data"
    }
   ],
   "source": [
    "df = df.drop(['LOG SOLUBILITY PH 6.8 (ug/mL)', 'Molecular Weight'],axis=1)\n",
    "df['mol'] = df.SMILES.progress_apply(Chem.MolFromSmiles)"
   ]
  },
  {
   "cell_type": "markdown",
   "id": "ec93f9be",
   "metadata": {},
   "source": [
    "Delete rows where the SMILES couldn't be parsed"
   ]
  },
  {
   "cell_type": "code",
   "execution_count": 9,
   "id": "568b839b",
   "metadata": {},
   "outputs": [],
   "source": [
    "df_ok = df.dropna(subset=['mol']).copy()"
   ]
  },
  {
   "cell_type": "markdown",
   "id": "604885d5",
   "metadata": {},
   "source": [
    "Make sure we don't have duplicate molecules"
   ]
  },
  {
   "cell_type": "code",
   "execution_count": 10,
   "id": "4c6dd9ac",
   "metadata": {
    "tags": []
   },
   "outputs": [],
   "source": [
    "df_ok['cansmi'] = df_ok.mol.apply(Chem.MolToSmiles)"
   ]
  },
  {
   "cell_type": "code",
   "execution_count": 11,
   "id": "1e0796df",
   "metadata": {
    "tags": []
   },
   "outputs": [
    {
     "data": {
      "text/plain": [
       "CNc1cc(Nc2cccn(-c3ccccn3)c2=O)nn2c(C(=O)N[C@@H]3C[C@@H]3F)cnc12    1\n",
       "Cc1nccc(NC(=O)CCc2ccncc2)c1Cl                                      1\n",
       "CCc1nnc(N2CC(N(C)C)C2)c(C#N)c1CC                                   1\n",
       "CCc1nnc(Nc2cc(C)nc(C3CN(C(=O)C(C)C)CCO3)c2)s1                      1\n",
       "O=C(Nc1ccncc1)[C@H]1CCCN(S(=O)(=O)c2ccc(Cl)cc2)C1                  1\n",
       "                                                                  ..\n",
       "O=C(c1ccccn1)N1CCCC(c2cccc(-c3cccc(Cl)c3)n2)C1                     1\n",
       "CN1CCN(c2ccc(NC(=O)c3ccc(S(=O)(=O)N4CCCc5ccccc54)cc3)cc2)CC1       1\n",
       "Cc1cnn(Cc2nc(Cn3cccn3)no2)c1                                       1\n",
       "COc1ccccc1CC(=O)Nc1ncc(C)s1                                        1\n",
       "Cc1cccc(/C=N/Nc2cc(N3CCOCC3)n3nc(-c4ccncc4)cc3n2)c1                1\n",
       "Name: cansmi, Length: 3521, dtype: int64"
      ]
     },
     "execution_count": 11,
     "metadata": {},
     "output_type": "execute_result"
    }
   ],
   "source": [
    "df_ok.cansmi.value_counts()"
   ]
  },
  {
   "cell_type": "markdown",
   "id": "2173e77e",
   "metadata": {},
   "source": [
    "Drop the molecule column"
   ]
  },
  {
   "cell_type": "code",
   "execution_count": 12,
   "id": "c75b4a92",
   "metadata": {
    "tags": []
   },
   "outputs": [],
   "source": [
    "df_ok = df_ok.drop([\"mol\",\"cansmi\"],axis=1)"
   ]
  },
  {
   "cell_type": "markdown",
   "id": "81ef47c2",
   "metadata": {},
   "source": [
    "Double check the sizes of the dataframes"
   ]
  },
  {
   "cell_type": "code",
   "execution_count": 13,
   "id": "371128f0",
   "metadata": {
    "tags": []
   },
   "outputs": [
    {
     "data": {
      "text/plain": [
       "(3521, 3521, 0)"
      ]
     },
     "execution_count": 13,
     "metadata": {},
     "output_type": "execute_result"
    }
   ],
   "source": [
    "len(df),len(df_ok),len(df)-len(df_ok)"
   ]
  },
  {
   "cell_type": "markdown",
   "id": "1e8b83f4",
   "metadata": {},
   "source": [
    "Create two dataframes, one with the molecules that have Sol data and one with the molecules that don't. For single task, we'll only use the molecules with Sol data.  For multitask, we'll use all the data. "
   ]
  },
  {
   "cell_type": "code",
   "execution_count": 14,
   "id": "90e55105",
   "metadata": {
    "tags": []
   },
   "outputs": [
    {
     "data": {
      "text/plain": [
       "{'Internal ID': 'Name',\n",
       " 'Vendor ID': 'Vendor ID',\n",
       " 'SMILES': 'SMILES',\n",
       " 'CollectionName': 'CollectionName',\n",
       " 'LOG HLM_CLint (mL/min/kg)': 'HLM_CLint',\n",
       " 'LOG MDR1-MDCK ER (B-A/A-B)': 'ER',\n",
       " 'LOG PLASMA PROTEIN BINDING (HUMAN) (% unbound)': 'HPPB',\n",
       " 'LOG PLASMA PROTEIN BINDING (RAT) (% unbound)': 'RPPB',\n",
       " 'LOG RLM_CLint (mL/min/kg)': 'RLM_CLint',\n",
       " 'LOG SOLUBILITY PH 6.8 (uM)': 'Sol'}"
      ]
     },
     "execution_count": 14,
     "metadata": {},
     "output_type": "execute_result"
    }
   ],
   "source": [
    "rename_ls = ['Name',\n",
    " 'Vendor ID',\n",
    " 'SMILES',\n",
    " 'CollectionName',\n",
    " 'HLM_CLint',\n",
    " 'ER',\n",
    " 'HPPB',\n",
    " 'RPPB',\n",
    " 'RLM_CLint',\n",
    " 'Sol']\n",
    "rename_dic = dict(zip(df_ok.columns.tolist(), rename_ls))\n",
    "rename_dic"
   ]
  },
  {
   "cell_type": "code",
   "execution_count": 15,
   "id": "79d8d2ef",
   "metadata": {
    "tags": []
   },
   "outputs": [],
   "source": [
    "df_ok = df_ok.rename(columns=rename_dic)"
   ]
  },
  {
   "cell_type": "code",
   "execution_count": 16,
   "id": "42c4f805",
   "metadata": {
    "tags": []
   },
   "outputs": [
    {
     "data": {
      "text/plain": [
       "array([[<AxesSubplot:title={'center':'HLM_CLint'}>,\n",
       "        <AxesSubplot:title={'center':'ER'}>],\n",
       "       [<AxesSubplot:title={'center':'HPPB'}>,\n",
       "        <AxesSubplot:title={'center':'RPPB'}>],\n",
       "       [<AxesSubplot:title={'center':'RLM_CLint'}>,\n",
       "        <AxesSubplot:title={'center':'Sol'}>]], dtype=object)"
      ]
     },
     "execution_count": 16,
     "metadata": {},
     "output_type": "execute_result"
    },
    {
     "data": {
      "image/png": "[encoded data removed]",
      "text/plain": [
       "<Figure size 864x576 with 6 Axes>"
      ]
     },
     "metadata": {
      "needs_background": "light"
     },
     "output_type": "display_data"
    }
   ],
   "source": [
    "df_ok.hist(figsize = (12, 8))"
   ]
  },
  {
   "cell_type": "code",
   "execution_count": 17,
   "id": "c9842b4e",
   "metadata": {},
   "outputs": [],
   "source": [
    "df_sol = df_ok.dropna(subset=[\"Sol\"]).copy()\n",
    "df_rest = df_ok[df_ok.Sol.isna()].copy()"
   ]
  },
  {
   "cell_type": "code",
   "execution_count": 18,
   "id": "89444e9f",
   "metadata": {
    "tags": []
   },
   "outputs": [
    {
     "data": {
      "text/html": [
       "<div>\n",
       "<style scoped>\n",
       "    .dataframe tbody tr th:only-of-type {\n",
       "        vertical-align: middle;\n",
       "    }\n",
       "\n",
       "    .dataframe tbody tr th {\n",
       "        vertical-align: top;\n",
       "    }\n",
       "\n",
       "    .dataframe thead th {\n",
       "        text-align: right;\n",
       "    }\n",
       "</style>\n",
       "<table border=\"1\" class=\"dataframe\">\n",
       "  <thead>\n",
       "    <tr style=\"text-align: right;\">\n",
       "      <th></th>\n",
       "      <th>Name</th>\n",
       "      <th>Vendor ID</th>\n",
       "      <th>SMILES</th>\n",
       "      <th>CollectionName</th>\n",
       "      <th>HLM_CLint</th>\n",
       "      <th>ER</th>\n",
       "      <th>HPPB</th>\n",
       "      <th>RPPB</th>\n",
       "      <th>RLM_CLint</th>\n",
       "      <th>Sol</th>\n",
       "    </tr>\n",
       "  </thead>\n",
       "  <tbody>\n",
       "    <tr>\n",
       "      <th>2</th>\n",
       "      <td>Mol3</td>\n",
       "      <td>304005766</td>\n",
       "      <td>CN(c1ncc(F)cn1)[C@H]1CCCNC1</td>\n",
       "      <td>emolecules</td>\n",
       "      <td>0.675687</td>\n",
       "      <td>-0.358806</td>\n",
       "      <td>2.000000</td>\n",
       "      <td>2.000000</td>\n",
       "      <td>1.027920</td>\n",
       "      <td>NaN</td>\n",
       "    </tr>\n",
       "    <tr>\n",
       "      <th>4</th>\n",
       "      <td>Mol5</td>\n",
       "      <td>324059015</td>\n",
       "      <td>CC(C)(O)CCn1cc2cc(NC(=O)c3cccc(C(F)(F)F)n3)c(C...</td>\n",
       "      <td>emolecules</td>\n",
       "      <td>0.996380</td>\n",
       "      <td>1.010597</td>\n",
       "      <td>1.015611</td>\n",
       "      <td>1.092264</td>\n",
       "      <td>1.629093</td>\n",
       "      <td>NaN</td>\n",
       "    </tr>\n",
       "    <tr>\n",
       "      <th>6</th>\n",
       "      <td>Mol7</td>\n",
       "      <td>299985775</td>\n",
       "      <td>CC(C)NCC(O)COc1cccc2ccccc12</td>\n",
       "      <td>emolecules</td>\n",
       "      <td>1.327232</td>\n",
       "      <td>-0.162401</td>\n",
       "      <td>NaN</td>\n",
       "      <td>1.347759</td>\n",
       "      <td>3.318276</td>\n",
       "      <td>NaN</td>\n",
       "    </tr>\n",
       "    <tr>\n",
       "      <th>7</th>\n",
       "      <td>Mol8</td>\n",
       "      <td>538570</td>\n",
       "      <td>COc1ccc(Cl)cc1C(=O)NCCc1ccc(S(=O)(=O)NC(=O)NC2...</td>\n",
       "      <td>emolecules</td>\n",
       "      <td>1.458063</td>\n",
       "      <td>2.091561</td>\n",
       "      <td>-0.917215</td>\n",
       "      <td>-0.943095</td>\n",
       "      <td>2.728062</td>\n",
       "      <td>NaN</td>\n",
       "    </tr>\n",
       "    <tr>\n",
       "      <th>9</th>\n",
       "      <td>Mol10</td>\n",
       "      <td>44811418</td>\n",
       "      <td>CC(C)NC(=O)COc1cccc(-c2nc(Nc3ccc4[nH]ncc4c3)c3...</td>\n",
       "      <td>emolecules</td>\n",
       "      <td>1.630824</td>\n",
       "      <td>1.301829</td>\n",
       "      <td>-1.384078</td>\n",
       "      <td>-0.504456</td>\n",
       "      <td>3.192741</td>\n",
       "      <td>NaN</td>\n",
       "    </tr>\n",
       "    <tr>\n",
       "      <th>...</th>\n",
       "      <td>...</td>\n",
       "      <td>...</td>\n",
       "      <td>...</td>\n",
       "      <td>...</td>\n",
       "      <td>...</td>\n",
       "      <td>...</td>\n",
       "      <td>...</td>\n",
       "      <td>...</td>\n",
       "      <td>...</td>\n",
       "      <td>...</td>\n",
       "    </tr>\n",
       "    <tr>\n",
       "      <th>3516</th>\n",
       "      <td>Mol3517</td>\n",
       "      <td>43258693</td>\n",
       "      <td>O=C(c1ccc2c(c1)CCCC2)N1CCOCC1c1ccn[nH]1</td>\n",
       "      <td>emolecules</td>\n",
       "      <td>NaN</td>\n",
       "      <td>0.606813</td>\n",
       "      <td>NaN</td>\n",
       "      <td>NaN</td>\n",
       "      <td>NaN</td>\n",
       "      <td>NaN</td>\n",
       "    </tr>\n",
       "    <tr>\n",
       "      <th>3517</th>\n",
       "      <td>Mol3518</td>\n",
       "      <td>27448206</td>\n",
       "      <td>O=C(Nc1nc2ccccc2[nH]1)c1ccc(-n2cccc2)cc1</td>\n",
       "      <td>emolecules</td>\n",
       "      <td>NaN</td>\n",
       "      <td>-0.444495</td>\n",
       "      <td>NaN</td>\n",
       "      <td>NaN</td>\n",
       "      <td>NaN</td>\n",
       "      <td>NaN</td>\n",
       "    </tr>\n",
       "    <tr>\n",
       "      <th>3518</th>\n",
       "      <td>Mol3519</td>\n",
       "      <td>207150215</td>\n",
       "      <td>NC(=O)c1noc([C@@H](CCCC2CCCCC2)CC(=O)NO)n1</td>\n",
       "      <td>emolecules</td>\n",
       "      <td>0.863799</td>\n",
       "      <td>NaN</td>\n",
       "      <td>NaN</td>\n",
       "      <td>NaN</td>\n",
       "      <td>NaN</td>\n",
       "      <td>NaN</td>\n",
       "    </tr>\n",
       "    <tr>\n",
       "      <th>3519</th>\n",
       "      <td>Mol3520</td>\n",
       "      <td>25037224</td>\n",
       "      <td>CCCCCCCCc1ccc(CC[C@](N)(CO)COP(=O)(O)O)cc1</td>\n",
       "      <td>emolecules</td>\n",
       "      <td>0.881385</td>\n",
       "      <td>NaN</td>\n",
       "      <td>NaN</td>\n",
       "      <td>NaN</td>\n",
       "      <td>NaN</td>\n",
       "      <td>NaN</td>\n",
       "    </tr>\n",
       "    <tr>\n",
       "      <th>3520</th>\n",
       "      <td>Mol3521</td>\n",
       "      <td>53744885</td>\n",
       "      <td>Cc1cccc(/C=N/Nc2cc(N3CCOCC3)n3nc(-c4ccncc4)cc3...</td>\n",
       "      <td>emolecules</td>\n",
       "      <td>1.507059</td>\n",
       "      <td>NaN</td>\n",
       "      <td>NaN</td>\n",
       "      <td>NaN</td>\n",
       "      <td>NaN</td>\n",
       "      <td>NaN</td>\n",
       "    </tr>\n",
       "  </tbody>\n",
       "</table>\n",
       "<p>1348 rows × 10 columns</p>\n",
       "</div>"
      ],
      "text/plain": [
       "         Name  Vendor ID                                             SMILES  \\\n",
       "2        Mol3  304005766                        CN(c1ncc(F)cn1)[C@H]1CCCNC1   \n",
       "4        Mol5  324059015  CC(C)(O)CCn1cc2cc(NC(=O)c3cccc(C(F)(F)F)n3)c(C...   \n",
       "6        Mol7  299985775                        CC(C)NCC(O)COc1cccc2ccccc12   \n",
       "7        Mol8     538570  COc1ccc(Cl)cc1C(=O)NCCc1ccc(S(=O)(=O)NC(=O)NC2...   \n",
       "9       Mol10   44811418  CC(C)NC(=O)COc1cccc(-c2nc(Nc3ccc4[nH]ncc4c3)c3...   \n",
       "...       ...        ...                                                ...   \n",
       "3516  Mol3517   43258693            O=C(c1ccc2c(c1)CCCC2)N1CCOCC1c1ccn[nH]1   \n",
       "3517  Mol3518   27448206           O=C(Nc1nc2ccccc2[nH]1)c1ccc(-n2cccc2)cc1   \n",
       "3518  Mol3519  207150215         NC(=O)c1noc([C@@H](CCCC2CCCCC2)CC(=O)NO)n1   \n",
       "3519  Mol3520   25037224         CCCCCCCCc1ccc(CC[C@](N)(CO)COP(=O)(O)O)cc1   \n",
       "3520  Mol3521   53744885  Cc1cccc(/C=N/Nc2cc(N3CCOCC3)n3nc(-c4ccncc4)cc3...   \n",
       "\n",
       "     CollectionName  HLM_CLint        ER      HPPB      RPPB  RLM_CLint  Sol  \n",
       "2        emolecules   0.675687 -0.358806  2.000000  2.000000   1.027920  NaN  \n",
       "4        emolecules   0.996380  1.010597  1.015611  1.092264   1.629093  NaN  \n",
       "6        emolecules   1.327232 -0.162401       NaN  1.347759   3.318276  NaN  \n",
       "7        emolecules   1.458063  2.091561 -0.917215 -0.943095   2.728062  NaN  \n",
       "9        emolecules   1.630824  1.301829 -1.384078 -0.504456   3.192741  NaN  \n",
       "...             ...        ...       ...       ...       ...        ...  ...  \n",
       "3516     emolecules        NaN  0.606813       NaN       NaN        NaN  NaN  \n",
       "3517     emolecules        NaN -0.444495       NaN       NaN        NaN  NaN  \n",
       "3518     emolecules   0.863799       NaN       NaN       NaN        NaN  NaN  \n",
       "3519     emolecules   0.881385       NaN       NaN       NaN        NaN  NaN  \n",
       "3520     emolecules   1.507059       NaN       NaN       NaN        NaN  NaN  \n",
       "\n",
       "[1348 rows x 10 columns]"
      ]
     },
     "execution_count": 18,
     "metadata": {},
     "output_type": "execute_result"
    }
   ],
   "source": [
    "df_rest"
   ]
  },
  {
   "cell_type": "markdown",
   "id": "164ad28d",
   "metadata": {},
   "source": [
    "There are some sizeable series, so go ahead with scaffold split"
   ]
  },
  {
   "cell_type": "code",
   "execution_count": 19,
   "id": "a4311316",
   "metadata": {},
   "outputs": [
    {
     "data": {
      "text/html": [
       "<div>\n",
       "<style scoped>\n",
       "    .dataframe tbody tr th:only-of-type {\n",
       "        vertical-align: middle;\n",
       "    }\n",
       "\n",
       "    .dataframe tbody tr th {\n",
       "        vertical-align: top;\n",
       "    }\n",
       "\n",
       "    .dataframe thead th {\n",
       "        text-align: right;\n",
       "    }\n",
       "</style>\n",
       "<table border=\"1\" class=\"dataframe\">\n",
       "  <thead>\n",
       "    <tr style=\"text-align: right;\">\n",
       "      <th></th>\n",
       "      <th>Item</th>\n",
       "      <th>Count</th>\n",
       "    </tr>\n",
       "  </thead>\n",
       "  <tbody>\n",
       "    <tr>\n",
       "      <th>0</th>\n",
       "      <td>c1ccccc1</td>\n",
       "      <td>50</td>\n",
       "    </tr>\n",
       "    <tr>\n",
       "      <th>1</th>\n",
       "      <td>c1ccc2ncccc2c1</td>\n",
       "      <td>16</td>\n",
       "    </tr>\n",
       "    <tr>\n",
       "      <th>2</th>\n",
       "      <td>c1ccncc1</td>\n",
       "      <td>16</td>\n",
       "    </tr>\n",
       "    <tr>\n",
       "      <th>3</th>\n",
       "      <td>c1ccc(-n2cccn2)cc1</td>\n",
       "      <td>12</td>\n",
       "    </tr>\n",
       "    <tr>\n",
       "      <th>4</th>\n",
       "      <td>O=C(CN1CCCN(c2ccccn2)CC1)Nc1ccccc1</td>\n",
       "      <td>10</td>\n",
       "    </tr>\n",
       "    <tr>\n",
       "      <th>5</th>\n",
       "      <td>c1ccc(-c2cscn2)cc1</td>\n",
       "      <td>10</td>\n",
       "    </tr>\n",
       "    <tr>\n",
       "      <th>6</th>\n",
       "      <td>c1cn[nH]c1</td>\n",
       "      <td>10</td>\n",
       "    </tr>\n",
       "    <tr>\n",
       "      <th>7</th>\n",
       "      <td>c1ccc2[nH]cnc2c1</td>\n",
       "      <td>8</td>\n",
       "    </tr>\n",
       "    <tr>\n",
       "      <th>8</th>\n",
       "      <td>c1ccc2[nH]ccc2c1</td>\n",
       "      <td>8</td>\n",
       "    </tr>\n",
       "    <tr>\n",
       "      <th>9</th>\n",
       "      <td>O=S(=O)(Nc1ccccc1)c1ccccc1</td>\n",
       "      <td>8</td>\n",
       "    </tr>\n",
       "    <tr>\n",
       "      <th>10</th>\n",
       "      <td>O=C(Nc1ccccc1)c1scnc1-c1ccccc1</td>\n",
       "      <td>7</td>\n",
       "    </tr>\n",
       "    <tr>\n",
       "      <th>11</th>\n",
       "      <td>c1ccc(-c2ccccn2)cc1</td>\n",
       "      <td>7</td>\n",
       "    </tr>\n",
       "    <tr>\n",
       "      <th>12</th>\n",
       "      <td>c1ccc2occc2c1</td>\n",
       "      <td>6</td>\n",
       "    </tr>\n",
       "    <tr>\n",
       "      <th>13</th>\n",
       "      <td>c1ccc(Cn2cccn2)cc1</td>\n",
       "      <td>6</td>\n",
       "    </tr>\n",
       "    <tr>\n",
       "      <th>14</th>\n",
       "      <td>c1ccc(-c2ccccc2)cc1</td>\n",
       "      <td>6</td>\n",
       "    </tr>\n",
       "    <tr>\n",
       "      <th>15</th>\n",
       "      <td>O=C(CN1CCCC(c2nc3ccccc3o2)C1)Nc1ccccc1</td>\n",
       "      <td>6</td>\n",
       "    </tr>\n",
       "    <tr>\n",
       "      <th>16</th>\n",
       "      <td>O=C(Cc1ccccc1)Nc1ccccc1</td>\n",
       "      <td>6</td>\n",
       "    </tr>\n",
       "    <tr>\n",
       "      <th>17</th>\n",
       "      <td>c1ccc(Oc2ccccn2)cc1</td>\n",
       "      <td>6</td>\n",
       "    </tr>\n",
       "    <tr>\n",
       "      <th>18</th>\n",
       "      <td>C1CCNCC1</td>\n",
       "      <td>6</td>\n",
       "    </tr>\n",
       "    <tr>\n",
       "      <th>19</th>\n",
       "      <td>c1ccc(-c2ncn[nH]2)cc1</td>\n",
       "      <td>5</td>\n",
       "    </tr>\n",
       "  </tbody>\n",
       "</table>\n",
       "</div>"
      ],
      "text/plain": [
       "                                      Item  Count\n",
       "0                                 c1ccccc1     50\n",
       "1                           c1ccc2ncccc2c1     16\n",
       "2                                 c1ccncc1     16\n",
       "3                       c1ccc(-n2cccn2)cc1     12\n",
       "4       O=C(CN1CCCN(c2ccccn2)CC1)Nc1ccccc1     10\n",
       "5                       c1ccc(-c2cscn2)cc1     10\n",
       "6                               c1cn[nH]c1     10\n",
       "7                         c1ccc2[nH]cnc2c1      8\n",
       "8                         c1ccc2[nH]ccc2c1      8\n",
       "9               O=S(=O)(Nc1ccccc1)c1ccccc1      8\n",
       "10          O=C(Nc1ccccc1)c1scnc1-c1ccccc1      7\n",
       "11                     c1ccc(-c2ccccn2)cc1      7\n",
       "12                           c1ccc2occc2c1      6\n",
       "13                      c1ccc(Cn2cccn2)cc1      6\n",
       "14                     c1ccc(-c2ccccc2)cc1      6\n",
       "15  O=C(CN1CCCC(c2nc3ccccc3o2)C1)Nc1ccccc1      6\n",
       "16                 O=C(Cc1ccccc1)Nc1ccccc1      6\n",
       "17                     c1ccc(Oc2ccccn2)cc1      6\n",
       "18                                C1CCNCC1      6\n",
       "19                   c1ccc(-c2ncn[nH]2)cc1      5"
      ]
     },
     "execution_count": 19,
     "metadata": {},
     "output_type": "execute_result"
    }
   ],
   "source": [
    "from helper import scaffold_to_smiles\n",
    "\n",
    "scaffold_to_indices = scaffold_to_smiles(df_ok.SMILES, use_indices=True)\n",
    "counts = {key: len(value) for key, value in scaffold_to_indices.items()}\n",
    "df = pd.DataFrame(counts.items(), columns=['Item', 'Count'])\n",
    "df_sorted = df.sort_values(by='Count', ascending=False).reset_index(drop=True)\n",
    "df_sorted.head(20)"
   ]
  },
  {
   "cell_type": "markdown",
   "id": "9fabd7bf",
   "metadata": {},
   "source": [
    "Write the splits to disk. Supress warnings because we're writing floats and NAs in a column. "
   ]
  },
  {
   "cell_type": "code",
   "execution_count": 21,
   "id": "7156afc4",
   "metadata": {
    "tags": []
   },
   "outputs": [
    {
     "data": {
      "application/vnd.jupyter.widget-view+json": {
       "model_id": "ade65e6b2a9f41c6b5e48b9fef486d39",
       "version_major": 2,
       "version_minor": 0
      },
      "text/plain": [
       "  0%|          | 0/5 [00:00<?, ?it/s]"
      ]
     },
     "metadata": {},
     "output_type": "display_data"
    }
   ],
   "source": [
    "df_sol['Sol_bins'] = pd.cut(df_sol['Sol'], bins=10, labels=False)\n",
    "\n",
    "warnings.simplefilter(action = \"ignore\", category = RuntimeWarning)\n",
    "dataset = {}\n",
    "\n",
    "if not os.path.exists(\"data\"):\n",
    "        os.mkdir(\"data\")\n",
    "base_name = \"data/Sol\"\n",
    "for i in tqdm(range(0,5)):\n",
    "    dir_name = f\"{base_name}{i:03d}\"\n",
    "    if not os.path.exists(dir_name):\n",
    "        os.mkdir(dir_name)\n",
    "    \n",
    "    # random split\n",
    "    rnd_train, rnd_val_test = train_test_split(df_sol,test_size=0.2,stratify=df_sol.Sol_bins,random_state=i)\n",
    "    rnd_val, rnd_test = train_test_split(rnd_val_test, test_size=0.5,stratify=rnd_val_test.Sol_bins,random_state=i)\n",
    "    dataset[\"random\"] = [rnd_train, rnd_val, rnd_test]\n",
    "    # scaffold split\n",
    "    scaf_train, scaf_val_test = scaffold_split(df_sol.SMILES,sizes=(0.8,0.2),seed=i)\n",
    "    df_scaf_train = df_sol.iloc[scaf_train]\n",
    "    df_scaf_val_test = df_sol.iloc[scaf_val_test]\n",
    "    scaf_val, scaf_test = scaffold_split(df_scaf_val_test.SMILES,sizes=(0.5,0.5),seed=i)\n",
    "    df_scaf_val = df_scaf_val_test.iloc[scaf_val]\n",
    "    df_scaf_test = df_scaf_val_test.iloc[scaf_test]    \n",
    "    dataset[\"scaffold\"] = [df_scaf_train, df_scaf_val, df_scaf_test]\n",
    "    \n",
    "    for prefix in [\"random\", \"scaffold\"]:\n",
    "        train, val, test = dataset[prefix]\n",
    "    \n",
    "        st_cols = [\"SMILES\",\"Name\",\"Sol\"]\n",
    "        train[st_cols].to_csv(f\"{dir_name}/{prefix}_train_{i:03d}.csv\",index=False)\n",
    "        val[st_cols].to_csv(f\"{dir_name}/{prefix}_val_{i:03d}.csv\",index=False)\n",
    "        test[st_cols].to_csv(f\"{dir_name}/{prefix}_test_{i:03d}.csv\",index=False)\n",
    "    \n",
    "        mt_cols = [\"SMILES\",\"Name\",\"Sol\",\"HLM_CLint\",\"RLM_CLint\",\"ER\",\"HPPB\",\"RPPB\"]\n",
    "        rest_train, rest_val = train_test_split(df_rest,test_size=0.2,random_state=i)\n",
    "        train = pd.concat([train, rest_train]).sample(frac=1.0)\n",
    "        train[mt_cols].to_csv(f\"{dir_name}/{prefix}_mt_train_{i:03d}.csv\",index=False)\n",
    "        val = pd.concat([val, rest_val]).sample(frac=1.0)\n",
    "        val[mt_cols].to_csv(f\"{dir_name}/{prefix}_mt_val_{i:03d}.csv\",index=False)\n",
    "        test[mt_cols].to_csv(f\"{dir_name}/{prefix}_mt_test_{i:03d}.csv\",index=False)"
   ]
  },
  {
   "cell_type": "code",
   "execution_count": null,
   "id": "6d8d0200",
   "metadata": {},
   "outputs": [],
   "source": [
    "## Unfinished repeated dietterich code, right now only doing 50 random samples\n",
    "\n",
    "\n",
    "# import numpy as np\n",
    "# from sklearn.model_selection import StratifiedKFold\n",
    "\n",
    "# def repeated_cv_dietterich_stratified(X, Y, funcs, n_folds=2, n_rep=5, alpha=0.1, trans=lambda x: x, funcs_params=None):\n",
    "#     # Create bins for the continuous target variable Y\n",
    "#     bins = np.linspace(min(Y), max(Y), num=11)  # Create 10 bins\n",
    "#     y_binned = np.digitize(Y, bins) - 1  # Bin index for each sample\n",
    "    \n",
    "#     skf = StratifiedKFold(n_splits=n_folds, random_state=None)\n",
    "#     mean_sum = 0\n",
    "#     variance_sum = 0\n",
    "#     cv_metrics = []\n",
    "\n",
    "#     for _ in range(n_rep):\n",
    "#         for train_index, test_index in skf.split(X, y_binned):\n",
    "#             X_train, X_test = X[train_index], X[test_index]\n",
    "#             Y_train, Y_test = Y[train_index], Y[test_index]\n",
    "\n",
    "#             fit = funcs['fitter'](X_train, Y_train, funcs_params)\n",
    "#             y_hat = funcs['predictor'](fit, X_test, funcs_params)\n",
    "#             error = funcs['loss'](y_hat, Y_test, funcs_params)\n",
    "\n",
    "#             cv_metrics.append(error)\n",
    "\n",
    "#         error_mean = np.mean(cv_metrics)\n",
    "#         error_var = np.var(cv_metrics, ddof=1)\n",
    "#         mean_sum += error_mean\n",
    "#         variance_sum += error_var\n",
    "#         cv_metrics = []\n",
    "\n",
    "#     cv_mean = (1 / n_rep) * mean_sum\n",
    "#     cv_sd = np.sqrt((1 / n_rep) * variance_sum)\n",
    "#     t_quant = t.ppf(1 - (alpha / 2), n_rep * (n_folds - 1))\n",
    "#     ci_lo = cv_mean - cv_sd * t_quant\n",
    "#     ci_hi = cv_mean + cv_sd * t_quant\n",
    "\n",
    "#     return {\n",
    "#         \"err_hat\": cv_mean,\n",
    "#         \"ci_lo\": ci_lo,\n",
    "#         \"ci_hi\": ci_hi,\n",
    "#         \"sd\": cv_sd\n",
    "#     }\n",
    "\n",
    "# # Example usage\n",
    "# funcs = {\n",
    "#     'fitter': lambda X, y, params: None,  # Replace with actual fitting logic\n",
    "#     'predictor': lambda model, X, params: np.random.rand(len(X)),  # Replace with actual prediction logic\n",
    "#     'loss': lambda y_hat, y, params: np.mean((y_hat - y) ** 2)  # Example: Mean Squared Error\n",
    "# }\n",
    "\n",
    "# # Example data\n",
    "# X = np.random.rand(100, 10)  # 100 samples, 10 features\n",
    "# Y = np.random.rand(100)  # 100 target values\n",
    "\n",
    "# result = repeated_cv_dietterich_stratified(X, Y, funcs)\n",
    "# print(result)\n"
   ]
  }
 ],
 "metadata": {
  "availableInstances": [
   {
    "_defaultOrder": 0,
    "_isFastLaunch": true,
    "category": "General purpose",
    "gpuNum": 0,
    "hideHardwareSpecs": false,
    "memoryGiB": 4,
    "name": "ml.t3.medium",
    "vcpuNum": 2
   },
   {
    "_defaultOrder": 1,
    "_isFastLaunch": false,
    "category": "General purpose",
    "gpuNum": 0,
    "hideHardwareSpecs": false,
    "memoryGiB": 8,
    "name": "ml.t3.large",
    "vcpuNum": 2
   },
   {
    "_defaultOrder": 2,
    "_isFastLaunch": false,
    "category": "General purpose",
    "gpuNum": 0,
    "hideHardwareSpecs": false,
    "memoryGiB": 16,
    "name": "ml.t3.xlarge",
    "vcpuNum": 4
   },
   {
    "_defaultOrder": 3,
    "_isFastLaunch": false,
    "category": "General purpose",
    "gpuNum": 0,
    "hideHardwareSpecs": false,
    "memoryGiB": 32,
    "name": "ml.t3.2xlarge",
    "vcpuNum": 8
   },
   {
    "_defaultOrder": 4,
    "_isFastLaunch": true,
    "category": "General purpose",
    "gpuNum": 0,
    "hideHardwareSpecs": false,
    "memoryGiB": 8,
    "name": "ml.m5.large",
    "vcpuNum": 2
   },
   {
    "_defaultOrder": 5,
    "_isFastLaunch": false,
    "category": "General purpose",
    "gpuNum": 0,
    "hideHardwareSpecs": false,
    "memoryGiB": 16,
    "name": "ml.m5.xlarge",
    "vcpuNum": 4
   },
   {
    "_defaultOrder": 6,
    "_isFastLaunch": false,
    "category": "General purpose",
    "gpuNum": 0,
    "hideHardwareSpecs": false,
    "memoryGiB": 32,
    "name": "ml.m5.2xlarge",
    "vcpuNum": 8
   },
   {
    "_defaultOrder": 7,
    "_isFastLaunch": false,
    "category": "General purpose",
    "gpuNum": 0,
    "hideHardwareSpecs": false,
    "memoryGiB": 64,
    "name": "ml.m5.4xlarge",
    "vcpuNum": 16
   },
   {
    "_defaultOrder": 8,
    "_isFastLaunch": false,
    "category": "General purpose",
    "gpuNum": 0,
    "hideHardwareSpecs": false,
    "memoryGiB": 128,
    "name": "ml.m5.8xlarge",
    "vcpuNum": 32
   },
   {
    "_defaultOrder": 9,
    "_isFastLaunch": false,
    "category": "General purpose",
    "gpuNum": 0,
    "hideHardwareSpecs": false,
    "memoryGiB": 192,
    "name": "ml.m5.12xlarge",
    "vcpuNum": 48
   },
   {
    "_defaultOrder": 10,
    "_isFastLaunch": false,
    "category": "General purpose",
    "gpuNum": 0,
    "hideHardwareSpecs": false,
    "memoryGiB": 256,
    "name": "ml.m5.16xlarge",
    "vcpuNum": 64
   },
   {
    "_defaultOrder": 11,
    "_isFastLaunch": false,
    "category": "General purpose",
    "gpuNum": 0,
    "hideHardwareSpecs": false,
    "memoryGiB": 384,
    "name": "ml.m5.24xlarge",
    "vcpuNum": 96
   },
   {
    "_defaultOrder": 12,
    "_isFastLaunch": false,
    "category": "General purpose",
    "gpuNum": 0,
    "hideHardwareSpecs": false,
    "memoryGiB": 8,
    "name": "ml.m5d.large",
    "vcpuNum": 2
   },
   {
    "_defaultOrder": 13,
    "_isFastLaunch": false,
    "category": "General purpose",
    "gpuNum": 0,
    "hideHardwareSpecs": false,
    "memoryGiB": 16,
    "name": "ml.m5d.xlarge",
    "vcpuNum": 4
   },
   {
    "_defaultOrder": 14,
    "_isFastLaunch": false,
    "category": "General purpose",
    "gpuNum": 0,
    "hideHardwareSpecs": false,
    "memoryGiB": 32,
    "name": "ml.m5d.2xlarge",
    "vcpuNum": 8
   },
   {
    "_defaultOrder": 15,
    "_isFastLaunch": false,
    "category": "General purpose",
    "gpuNum": 0,
    "hideHardwareSpecs": false,
    "memoryGiB": 64,
    "name": "ml.m5d.4xlarge",
    "vcpuNum": 16
   },
   {
    "_defaultOrder": 16,
    "_isFastLaunch": false,
    "category": "General purpose",
    "gpuNum": 0,
    "hideHardwareSpecs": false,
    "memoryGiB": 128,
    "name": "ml.m5d.8xlarge",
    "vcpuNum": 32
   },
   {
    "_defaultOrder": 17,
    "_isFastLaunch": false,
    "category": "General purpose",
    "gpuNum": 0,
    "hideHardwareSpecs": false,
    "memoryGiB": 192,
    "name": "ml.m5d.12xlarge",
    "vcpuNum": 48
   },
   {
    "_defaultOrder": 18,
    "_isFastLaunch": false,
    "category": "General purpose",
    "gpuNum": 0,
    "hideHardwareSpecs": false,
    "memoryGiB": 256,
    "name": "ml.m5d.16xlarge",
    "vcpuNum": 64
   },
   {
    "_defaultOrder": 19,
    "_isFastLaunch": false,
    "category": "General purpose",
    "gpuNum": 0,
    "hideHardwareSpecs": false,
    "memoryGiB": 384,
    "name": "ml.m5d.24xlarge",
    "vcpuNum": 96
   },
   {
    "_defaultOrder": 20,
    "_isFastLaunch": false,
    "category": "General purpose",
    "gpuNum": 0,
    "hideHardwareSpecs": true,
    "memoryGiB": 0,
    "name": "ml.geospatial.interactive",
    "supportedImageNames": [
     "sagemaker-geospatial-v1-0"
    ],
    "vcpuNum": 0
   },
   {
    "_defaultOrder": 21,
    "_isFastLaunch": true,
    "category": "Compute optimized",
    "gpuNum": 0,
    "hideHardwareSpecs": false,
    "memoryGiB": 4,
    "name": "ml.c5.large",
    "vcpuNum": 2
   },
   {
    "_defaultOrder": 22,
    "_isFastLaunch": false,
    "category": "Compute optimized",
    "gpuNum": 0,
    "hideHardwareSpecs": false,
    "memoryGiB": 8,
    "name": "ml.c5.xlarge",
    "vcpuNum": 4
   },
   {
    "_defaultOrder": 23,
    "_isFastLaunch": false,
    "category": "Compute optimized",
    "gpuNum": 0,
    "hideHardwareSpecs": false,
    "memoryGiB": 16,
    "name": "ml.c5.2xlarge",
    "vcpuNum": 8
   },
   {
    "_defaultOrder": 24,
    "_isFastLaunch": false,
    "category": "Compute optimized",
    "gpuNum": 0,
    "hideHardwareSpecs": false,
    "memoryGiB": 32,
    "name": "ml.c5.4xlarge",
    "vcpuNum": 16
   },
   {
    "_defaultOrder": 25,
    "_isFastLaunch": false,
    "category": "Compute optimized",
    "gpuNum": 0,
    "hideHardwareSpecs": false,
    "memoryGiB": 72,
    "name": "ml.c5.9xlarge",
    "vcpuNum": 36
   },
   {
    "_defaultOrder": 26,
    "_isFastLaunch": false,
    "category": "Compute optimized",
    "gpuNum": 0,
    "hideHardwareSpecs": false,
    "memoryGiB": 96,
    "name": "ml.c5.12xlarge",
    "vcpuNum": 48
   },
   {
    "_defaultOrder": 27,
    "_isFastLaunch": false,
    "category": "Compute optimized",
    "gpuNum": 0,
    "hideHardwareSpecs": false,
    "memoryGiB": 144,
    "name": "ml.c5.18xlarge",
    "vcpuNum": 72
   },
   {
    "_defaultOrder": 28,
    "_isFastLaunch": false,
    "category": "Compute optimized",
    "gpuNum": 0,
    "hideHardwareSpecs": false,
    "memoryGiB": 192,
    "name": "ml.c5.24xlarge",
    "vcpuNum": 96
   },
   {
    "_defaultOrder": 29,
    "_isFastLaunch": true,
    "category": "Accelerated computing",
    "gpuNum": 1,
    "hideHardwareSpecs": false,
    "memoryGiB": 16,
    "name": "ml.g4dn.xlarge",
    "vcpuNum": 4
   },
   {
    "_defaultOrder": 30,
    "_isFastLaunch": false,
    "category": "Accelerated computing",
    "gpuNum": 1,
    "hideHardwareSpecs": false,
    "memoryGiB": 32,
    "name": "ml.g4dn.2xlarge",
    "vcpuNum": 8
   },
   {
    "_defaultOrder": 31,
    "_isFastLaunch": false,
    "category": "Accelerated computing",
    "gpuNum": 1,
    "hideHardwareSpecs": false,
    "memoryGiB": 64,
    "name": "ml.g4dn.4xlarge",
    "vcpuNum": 16
   },
   {
    "_defaultOrder": 32,
    "_isFastLaunch": false,
    "category": "Accelerated computing",
    "gpuNum": 1,
    "hideHardwareSpecs": false,
    "memoryGiB": 128,
    "name": "ml.g4dn.8xlarge",
    "vcpuNum": 32
   },
   {
    "_defaultOrder": 33,
    "_isFastLaunch": false,
    "category": "Accelerated computing",
    "gpuNum": 4,
    "hideHardwareSpecs": false,
    "memoryGiB": 192,
    "name": "ml.g4dn.12xlarge",
    "vcpuNum": 48
   },
   {
    "_defaultOrder": 34,
    "_isFastLaunch": false,
    "category": "Accelerated computing",
    "gpuNum": 1,
    "hideHardwareSpecs": false,
    "memoryGiB": 256,
    "name": "ml.g4dn.16xlarge",
    "vcpuNum": 64
   },
   {
    "_defaultOrder": 35,
    "_isFastLaunch": false,
    "category": "Accelerated computing",
    "gpuNum": 1,
    "hideHardwareSpecs": false,
    "memoryGiB": 61,
    "name": "ml.p3.2xlarge",
    "vcpuNum": 8
   },
   {
    "_defaultOrder": 36,
    "_isFastLaunch": false,
    "category": "Accelerated computing",
    "gpuNum": 4,
    "hideHardwareSpecs": false,
    "memoryGiB": 244,
    "name": "ml.p3.8xlarge",
    "vcpuNum": 32
   },
   {
    "_defaultOrder": 37,
    "_isFastLaunch": false,
    "category": "Accelerated computing",
    "gpuNum": 8,
    "hideHardwareSpecs": false,
    "memoryGiB": 488,
    "name": "ml.p3.16xlarge",
    "vcpuNum": 64
   },
   {
    "_defaultOrder": 38,
    "_isFastLaunch": false,
    "category": "Accelerated computing",
    "gpuNum": 8,
    "hideHardwareSpecs": false,
    "memoryGiB": 768,
    "name": "ml.p3dn.24xlarge",
    "vcpuNum": 96
   },
   {
    "_defaultOrder": 39,
    "_isFastLaunch": false,
    "category": "Memory Optimized",
    "gpuNum": 0,
    "hideHardwareSpecs": false,
    "memoryGiB": 16,
    "name": "ml.r5.large",
    "vcpuNum": 2
   },
   {
    "_defaultOrder": 40,
    "_isFastLaunch": false,
    "category": "Memory Optimized",
    "gpuNum": 0,
    "hideHardwareSpecs": false,
    "memoryGiB": 32,
    "name": "ml.r5.xlarge",
    "vcpuNum": 4
   },
   {
    "_defaultOrder": 41,
    "_isFastLaunch": false,
    "category": "Memory Optimized",
    "gpuNum": 0,
    "hideHardwareSpecs": false,
    "memoryGiB": 64,
    "name": "ml.r5.2xlarge",
    "vcpuNum": 8
   },
   {
    "_defaultOrder": 42,
    "_isFastLaunch": false,
    "category": "Memory Optimized",
    "gpuNum": 0,
    "hideHardwareSpecs": false,
    "memoryGiB": 128,
    "name": "ml.r5.4xlarge",
    "vcpuNum": 16
   },
   {
    "_defaultOrder": 43,
    "_isFastLaunch": false,
    "category": "Memory Optimized",
    "gpuNum": 0,
    "hideHardwareSpecs": false,
    "memoryGiB": 256,
    "name": "ml.r5.8xlarge",
    "vcpuNum": 32
   },
   {
    "_defaultOrder": 44,
    "_isFastLaunch": false,
    "category": "Memory Optimized",
    "gpuNum": 0,
    "hideHardwareSpecs": false,
    "memoryGiB": 384,
    "name": "ml.r5.12xlarge",
    "vcpuNum": 48
   },
   {
    "_defaultOrder": 45,
    "_isFastLaunch": false,
    "category": "Memory Optimized",
    "gpuNum": 0,
    "hideHardwareSpecs": false,
    "memoryGiB": 512,
    "name": "ml.r5.16xlarge",
    "vcpuNum": 64
   },
   {
    "_defaultOrder": 46,
    "_isFastLaunch": false,
    "category": "Memory Optimized",
    "gpuNum": 0,
    "hideHardwareSpecs": false,
    "memoryGiB": 768,
    "name": "ml.r5.24xlarge",
    "vcpuNum": 96
   },
   {
    "_defaultOrder": 47,
    "_isFastLaunch": false,
    "category": "Accelerated computing",
    "gpuNum": 1,
    "hideHardwareSpecs": false,
    "memoryGiB": 16,
    "name": "ml.g5.xlarge",
    "vcpuNum": 4
   },
   {
    "_defaultOrder": 48,
    "_isFastLaunch": false,
    "category": "Accelerated computing",
    "gpuNum": 1,
    "hideHardwareSpecs": false,
    "memoryGiB": 32,
    "name": "ml.g5.2xlarge",
    "vcpuNum": 8
   },
   {
    "_defaultOrder": 49,
    "_isFastLaunch": false,
    "category": "Accelerated computing",
    "gpuNum": 1,
    "hideHardwareSpecs": false,
    "memoryGiB": 64,
    "name": "ml.g5.4xlarge",
    "vcpuNum": 16
   },
   {
    "_defaultOrder": 50,
    "_isFastLaunch": false,
    "category": "Accelerated computing",
    "gpuNum": 1,
    "hideHardwareSpecs": false,
    "memoryGiB": 128,
    "name": "ml.g5.8xlarge",
    "vcpuNum": 32
   },
   {
    "_defaultOrder": 51,
    "_isFastLaunch": false,
    "category": "Accelerated computing",
    "gpuNum": 1,
    "hideHardwareSpecs": false,
    "memoryGiB": 256,
    "name": "ml.g5.16xlarge",
    "vcpuNum": 64
   },
   {
    "_defaultOrder": 52,
    "_isFastLaunch": false,
    "category": "Accelerated computing",
    "gpuNum": 4,
    "hideHardwareSpecs": false,
    "memoryGiB": 192,
    "name": "ml.g5.12xlarge",
    "vcpuNum": 48
   },
   {
    "_defaultOrder": 53,
    "_isFastLaunch": false,
    "category": "Accelerated computing",
    "gpuNum": 4,
    "hideHardwareSpecs": false,
    "memoryGiB": 384,
    "name": "ml.g5.24xlarge",
    "vcpuNum": 96
   },
   {
    "_defaultOrder": 54,
    "_isFastLaunch": false,
    "category": "Accelerated computing",
    "gpuNum": 8,
    "hideHardwareSpecs": false,
    "memoryGiB": 768,
    "name": "ml.g5.48xlarge",
    "vcpuNum": 192
   },
   {
    "_defaultOrder": 55,
    "_isFastLaunch": false,
    "category": "Accelerated computing",
    "gpuNum": 8,
    "hideHardwareSpecs": false,
    "memoryGiB": 1152,
    "name": "ml.p4d.24xlarge",
    "vcpuNum": 96
   },
   {
    "_defaultOrder": 56,
    "_isFastLaunch": false,
    "category": "Accelerated computing",
    "gpuNum": 8,
    "hideHardwareSpecs": false,
    "memoryGiB": 1152,
    "name": "ml.p4de.24xlarge",
    "vcpuNum": 96
   },
   {
    "_defaultOrder": 57,
    "_isFastLaunch": false,
    "category": "Accelerated computing",
    "gpuNum": 0,
    "hideHardwareSpecs": false,
    "memoryGiB": 32,
    "name": "ml.trn1.2xlarge",
    "vcpuNum": 8
   },
   {
    "_defaultOrder": 58,
    "_isFastLaunch": false,
    "category": "Accelerated computing",
    "gpuNum": 0,
    "hideHardwareSpecs": false,
    "memoryGiB": 512,
    "name": "ml.trn1.32xlarge",
    "vcpuNum": 128
   },
   {
    "_defaultOrder": 59,
    "_isFastLaunch": false,
    "category": "Accelerated computing",
    "gpuNum": 0,
    "hideHardwareSpecs": false,
    "memoryGiB": 512,
    "name": "ml.trn1n.32xlarge",
    "vcpuNum": 128
   }
  ],
  "kernelspec": {
   "display_name": "Python [conda env:py39DE7S2]",
   "language": "python",
   "name": "conda-env-py39DE7S2-py"
  },
  "language_info": {
   "codemirror_mode": {
    "name": "ipython",
    "version": 3
   },
   "file_extension": ".py",
   "mimetype": "text/x-python",
   "name": "python",
   "nbconvert_exporter": "python",
   "pygments_lexer": "ipython3",
   "version": "3.9.0"
  }
 },
 "nbformat": 4,
 "nbformat_minor": 5
}
