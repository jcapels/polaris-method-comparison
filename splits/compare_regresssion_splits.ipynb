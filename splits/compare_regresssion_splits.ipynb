{
 "cells": [
  {
   "cell_type": "code",
   "execution_count": 9,
   "id": "6b20bd08",
   "metadata": {},
   "outputs": [],
   "source": [
    "import pandas as pd\n",
    "import useful_rdkit_utils as uru\n",
    "import seaborn as sns\n",
    "from sklearn.model_selection import RepeatedKFold, ShuffleSplit, KFold\n",
    "from lightgbm import LGBMRegressor\n",
    "import numpy as np\n",
    "from tqdm.auto import tqdm\n",
    "from sklearn.metrics import r2_score, mean_absolute_error\n",
    "import seaborn as sns\n",
    "from helper import scaffold_split"
   ]
  },
  {
   "cell_type": "code",
   "execution_count": 10,
   "id": "ba1dcd41",
   "metadata": {},
   "outputs": [],
   "source": [
    "tqdm.pandas()"
   ]
  },
  {
   "cell_type": "markdown",
   "id": "605e8c59",
   "metadata": {},
   "source": [
    "Read the data"
   ]
  },
  {
   "cell_type": "code",
   "execution_count": 11,
   "id": "e8f7f5ae",
   "metadata": {},
   "outputs": [],
   "source": [
    "df = pd.read_csv(\"biogen_logS.csv\")"
   ]
  },
  {
   "cell_type": "markdown",
   "id": "6325afb6",
   "metadata": {},
   "source": [
    "Calculate descriptors"
   ]
  },
  {
   "cell_type": "code",
   "execution_count": 12,
   "id": "4ff80617",
   "metadata": {},
   "outputs": [],
   "source": [
    "descriptor_calc = uru.RDKitDescriptors()"
   ]
  },
  {
   "cell_type": "code",
   "execution_count": 13,
   "id": "df542f00",
   "metadata": {},
   "outputs": [
    {
     "data": {
      "application/vnd.jupyter.widget-view+json": {
       "model_id": "fc57ecb537284e01b30b1a42db328aca",
       "version_major": 2,
       "version_minor": 0
      },
      "text/plain": [
       "  0%|          | 0/2173 [00:00<?, ?it/s]"
      ]
     },
     "metadata": {},
     "output_type": "display_data"
    }
   ],
   "source": [
    "df['desc'] = df.SMILES.progress_apply(descriptor_calc.calc_smiles)"
   ]
  },
  {
   "cell_type": "code",
   "execution_count": 14,
   "id": "6bb526e8",
   "metadata": {},
   "outputs": [],
   "source": [
    "X_vals = np.stack(df.desc)\n",
    "y_vals = df.logS "
   ]
  },
  {
   "cell_type": "markdown",
   "id": "51a60944",
   "metadata": {},
   "source": [
    "### Repeated K-Fold Cross-Validation"
   ]
  },
  {
   "cell_type": "code",
   "execution_count": 16,
   "id": "37f4a809",
   "metadata": {},
   "outputs": [
    {
     "data": {
      "application/vnd.jupyter.widget-view+json": {
       "model_id": "6cb885dc19624b7facb9e9fc994843fd",
       "version_major": 2,
       "version_minor": 0
      },
      "text/plain": [
       "  0%|          | 0/50 [00:00<?, ?it/s]"
      ]
     },
     "metadata": {},
     "output_type": "display_data"
    }
   ],
   "source": [
    "rkf = RepeatedKFold(n_splits=10, n_repeats=5, )\n",
    "five_x_ten_list = []\n",
    "for i, (train_index, test_index) in tqdm(enumerate(rkf.split(df)),total=rkf.get_n_splits()):\n",
    "    train_X = X_vals[train_index]\n",
    "    train_y = y_vals[train_index]\n",
    "    test_X = X_vals[test_index]\n",
    "    test_y = y_vals[test_index]\n",
    "    rgr = LGBMRegressor()\n",
    "    rgr.fit(train_X,train_y)\n",
    "    pred = rgr.predict(test_X)\n",
    "    r2 = r2_score(test_y, pred)\n",
    "    mae = mean_absolute_error(test_y, pred)\n",
    "    five_x_ten_list.append([r2, mae])"
   ]
  },
  {
   "cell_type": "code",
   "execution_count": 17,
   "id": "7c80e834",
   "metadata": {},
   "outputs": [],
   "source": [
    "five_x_ten_df = pd.DataFrame({\"r2\": [x[0] for x in five_x_ten_list],\n",
    "                              \"mae\": [x[1] for x in five_x_ten_list],\n",
    "                              \"method\": \"5x10-fold\"})"
   ]
  },
  {
   "cell_type": "markdown",
   "id": "cebe3315",
   "metadata": {},
   "source": [
    "### Shuffle-Split - This is what train_test_split does"
   ]
  },
  {
   "cell_type": "code",
   "execution_count": 18,
   "id": "96360dc1",
   "metadata": {},
   "outputs": [
    {
     "data": {
      "application/vnd.jupyter.widget-view+json": {
       "model_id": "d6a9d79374bd4e50828646e595fa874a",
       "version_major": 2,
       "version_minor": 0
      },
      "text/plain": [
       "  0%|          | 0/10 [00:00<?, ?it/s]"
      ]
     },
     "metadata": {},
     "output_type": "display_data"
    }
   ],
   "source": [
    "ss_list = []\n",
    "ss = ShuffleSplit(n_splits=10)\n",
    "for i, (train_index, test_index) in tqdm(enumerate(ss.split(df)),total=ss.get_n_splits()):\n",
    "    train_X = X_vals[train_index]\n",
    "    train_y = y_vals[train_index]\n",
    "    test_X = X_vals[test_index]\n",
    "    test_y = y_vals[test_index]\n",
    "    rgr = LGBMRegressor()\n",
    "    rgr.fit(train_X,train_y)\n",
    "    pred = rgr.predict(test_X)\n",
    "    r2 = r2_score(test_y, pred)\n",
    "    mae = mean_absolute_error(test_y, pred)\n",
    "    ss_list.append([r2, mae])"
   ]
  },
  {
   "cell_type": "code",
   "execution_count": 19,
   "id": "8b355ba7",
   "metadata": {},
   "outputs": [],
   "source": [
    "ss_df = pd.DataFrame({\"r2\": [x[0] for x in ss_list],\n",
    "                              \"mae\": [x[1] for x in ss_list],\n",
    "                              \"method\": \"shuffle-split\"})"
   ]
  },
  {
   "cell_type": "markdown",
   "id": "83afc9f4",
   "metadata": {},
   "source": [
    "### K-Fold Cross-Validation"
   ]
  },
  {
   "cell_type": "code",
   "execution_count": 33,
   "id": "9230a580",
   "metadata": {},
   "outputs": [
    {
     "data": {
      "application/vnd.jupyter.widget-view+json": {
       "model_id": "ca98bd1c78b6465bb273490ef281f9b0",
       "version_major": 2,
       "version_minor": 0
      },
      "text/plain": [
       "  0%|          | 0/10 [00:00<?, ?it/s]"
      ]
     },
     "metadata": {},
     "output_type": "display_data"
    }
   ],
   "source": [
    "kf_list = []\n",
    "kf = KFold(n_splits=10, shuffle=True)\n",
    "for i, (train_index, test_index) in tqdm(enumerate(kf.split(df)),total=kf.get_n_splits()):\n",
    "    train_X = X_vals[train_index]\n",
    "    train_y = y_vals[train_index]\n",
    "    test_X = X_vals[test_index]\n",
    "    test_y = y_vals[test_index]\n",
    "    rgr = LGBMRegressor()\n",
    "    rgr.fit(train_X,train_y)\n",
    "    pred = rgr.predict(test_X)\n",
    "    r2 = r2_score(test_y, pred)\n",
    "    mae = mean_absolute_error(test_y, pred)\n",
    "    kf_list.append([r2, mae])"
   ]
  },
  {
   "cell_type": "code",
   "execution_count": 34,
   "id": "f58a31ca",
   "metadata": {},
   "outputs": [],
   "source": [
    "kf_df = pd.DataFrame({\"r2\": [x[0] for x in kf_list],\n",
    "                              \"mae\": [x[1] for x in kf_list],\n",
    "                              \"method\": \"k-fold\"})"
   ]
  },
  {
   "cell_type": "code",
   "execution_count": 35,
   "id": "eca7eac9",
   "metadata": {},
   "outputs": [
    {
     "data": {
      "text/html": [
       "<div>\n",
       "<style scoped>\n",
       "    .dataframe tbody tr th:only-of-type {\n",
       "        vertical-align: middle;\n",
       "    }\n",
       "\n",
       "    .dataframe tbody tr th {\n",
       "        vertical-align: top;\n",
       "    }\n",
       "\n",
       "    .dataframe thead th {\n",
       "        text-align: right;\n",
       "    }\n",
       "</style>\n",
       "<table border=\"1\" class=\"dataframe\">\n",
       "  <thead>\n",
       "    <tr style=\"text-align: right;\">\n",
       "      <th></th>\n",
       "      <th>r2</th>\n",
       "      <th>mae</th>\n",
       "      <th>method</th>\n",
       "    </tr>\n",
       "  </thead>\n",
       "  <tbody>\n",
       "    <tr>\n",
       "      <th>0</th>\n",
       "      <td>0.391292</td>\n",
       "      <td>0.328437</td>\n",
       "      <td>k-fold</td>\n",
       "    </tr>\n",
       "    <tr>\n",
       "      <th>1</th>\n",
       "      <td>0.469199</td>\n",
       "      <td>0.417527</td>\n",
       "      <td>k-fold</td>\n",
       "    </tr>\n",
       "    <tr>\n",
       "      <th>2</th>\n",
       "      <td>0.305324</td>\n",
       "      <td>0.368381</td>\n",
       "      <td>k-fold</td>\n",
       "    </tr>\n",
       "    <tr>\n",
       "      <th>3</th>\n",
       "      <td>0.500359</td>\n",
       "      <td>0.352016</td>\n",
       "      <td>k-fold</td>\n",
       "    </tr>\n",
       "    <tr>\n",
       "      <th>4</th>\n",
       "      <td>0.466820</td>\n",
       "      <td>0.351838</td>\n",
       "      <td>k-fold</td>\n",
       "    </tr>\n",
       "    <tr>\n",
       "      <th>5</th>\n",
       "      <td>0.404517</td>\n",
       "      <td>0.360746</td>\n",
       "      <td>k-fold</td>\n",
       "    </tr>\n",
       "    <tr>\n",
       "      <th>6</th>\n",
       "      <td>0.385296</td>\n",
       "      <td>0.370319</td>\n",
       "      <td>k-fold</td>\n",
       "    </tr>\n",
       "    <tr>\n",
       "      <th>7</th>\n",
       "      <td>0.473323</td>\n",
       "      <td>0.356957</td>\n",
       "      <td>k-fold</td>\n",
       "    </tr>\n",
       "    <tr>\n",
       "      <th>8</th>\n",
       "      <td>0.331650</td>\n",
       "      <td>0.416784</td>\n",
       "      <td>k-fold</td>\n",
       "    </tr>\n",
       "    <tr>\n",
       "      <th>9</th>\n",
       "      <td>0.347953</td>\n",
       "      <td>0.394439</td>\n",
       "      <td>k-fold</td>\n",
       "    </tr>\n",
       "  </tbody>\n",
       "</table>\n",
       "</div>"
      ],
      "text/plain": [
       "         r2       mae  method\n",
       "0  0.391292  0.328437  k-fold\n",
       "1  0.469199  0.417527  k-fold\n",
       "2  0.305324  0.368381  k-fold\n",
       "3  0.500359  0.352016  k-fold\n",
       "4  0.466820  0.351838  k-fold\n",
       "5  0.404517  0.360746  k-fold\n",
       "6  0.385296  0.370319  k-fold\n",
       "7  0.473323  0.356957  k-fold\n",
       "8  0.331650  0.416784  k-fold\n",
       "9  0.347953  0.394439  k-fold"
      ]
     },
     "execution_count": 35,
     "metadata": {},
     "output_type": "execute_result"
    }
   ],
   "source": [
    "kf_df"
   ]
  },
  {
   "cell_type": "code",
   "execution_count": 36,
   "id": "1e40f08c",
   "metadata": {},
   "outputs": [
    {
     "data": {
      "application/vnd.jupyter.widget-view+json": {
       "model_id": "f862b9a63c434892bfcfbea99284a086",
       "version_major": 2,
       "version_minor": 0
      },
      "text/plain": [
       "  0%|          | 0/10 [00:00<?, ?it/s]"
      ]
     },
     "metadata": {},
     "output_type": "display_data"
    }
   ],
   "source": [
    "scaf_list = []\n",
    "for i in tqdm(range(0,10)):\n",
    "    train_index, test_index = scaffold_split(df.SMILES, seed=i)\n",
    "    train_X = X_vals[train_index]\n",
    "    train_y = y_vals[train_index]\n",
    "    test_X = X_vals[test_index]\n",
    "    test_y = y_vals[test_index]\n",
    "    rgr = LGBMRegressor()\n",
    "    rgr.fit(train_X,train_y)\n",
    "    pred = rgr.predict(test_X)\n",
    "    r2 = r2_score(test_y, pred)\n",
    "    mae = mean_absolute_error(test_y, pred)\n",
    "    scaf_list.append([r2, mae])"
   ]
  },
  {
   "cell_type": "code",
   "execution_count": 37,
   "id": "98ffd8ac",
   "metadata": {},
   "outputs": [],
   "source": [
    "scaf_df = pd.DataFrame({\"r2\": [x[0] for x in scaf_list],\n",
    "                              \"mae\": [x[1] for x in scaf_list],\n",
    "                              \"method\": \"scaffold-split\"})"
   ]
  },
  {
   "cell_type": "code",
   "execution_count": 38,
   "id": "4cb618c8",
   "metadata": {},
   "outputs": [],
   "source": [
    "combo_df = pd.concat([five_x_ten_df, ss_df, kf_df, scaf_df])"
   ]
  },
  {
   "cell_type": "code",
   "execution_count": 39,
   "id": "cc622739",
   "metadata": {},
   "outputs": [
    {
     "data": {
      "text/plain": [
       "Text(0, 0.5, '$R^2$')"
      ]
     },
     "execution_count": 39,
     "metadata": {},
     "output_type": "execute_result"
    },
    {
     "data": {
      "image/png": "[encoded data removed]",
      "text/plain": [
       "<Figure size 640x480 with 1 Axes>"
      ]
     },
     "metadata": {},
     "output_type": "display_data"
    }
   ],
   "source": [
    "ax = sns.boxplot(x=\"method\",y=\"r2\",data=combo_df,color=\"lightblue\",notch=True)\n",
    "ax.set_xlabel(\"Method\")\n",
    "ax.set_ylabel(\"$R^2$\")"
   ]
  },
  {
   "cell_type": "code",
   "execution_count": 40,
   "id": "ade6c4bd",
   "metadata": {},
   "outputs": [
    {
     "data": {
      "text/plain": [
       "Text(0, 0.5, 'MAE')"
      ]
     },
     "execution_count": 40,
     "metadata": {},
     "output_type": "execute_result"
    },
    {
     "data": {
      "image/png": "[encoded data removed]",
      "text/plain": [
       "<Figure size 640x480 with 1 Axes>"
      ]
     },
     "metadata": {},
     "output_type": "display_data"
    }
   ],
   "source": [
    "ax = sns.boxplot(x=\"method\",y=\"mae\",data=combo_df,color=\"lightblue\",notch=True)\n",
    "ax.set_xlabel(\"Method\")\n",
    "ax.set_ylabel(\"MAE\")"
   ]
  },
  {
   "cell_type": "code",
   "execution_count": null,
   "id": "f110833d",
   "metadata": {},
   "outputs": [],
   "source": []
  },
  {
   "cell_type": "code",
   "execution_count": null,
   "id": "904bd079",
   "metadata": {},
   "outputs": [],
   "source": []
  }
 ],
 "metadata": {
  "kernelspec": {
   "display_name": "Python 3 (ipykernel)",
   "language": "python",
   "name": "python3"
  },
  "language_info": {
   "codemirror_mode": {
    "name": "ipython",
    "version": 3
   },
   "file_extension": ".py",
   "mimetype": "text/x-python",
   "name": "python",
   "nbconvert_exporter": "python",
   "pygments_lexer": "ipython3",
   "version": "3.11.3"
  }
 },
 "nbformat": 4,
 "nbformat_minor": 5
}
