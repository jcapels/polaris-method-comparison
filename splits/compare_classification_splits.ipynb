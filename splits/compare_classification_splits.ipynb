{
 "cells": [
  {
   "cell_type": "code",
   "execution_count": 18,
   "id": "fa44ed1c",
   "metadata": {},
   "outputs": [],
   "source": [
    "import pandas as pd\n",
    "import useful_rdkit_utils as uru\n",
    "import seaborn as sns\n",
    "from sklearn.model_selection import RepeatedKFold, ShuffleSplit, KFold\n",
    "from lightgbm import LGBMClassifier\n",
    "import numpy as np\n",
    "from tqdm.auto import tqdm\n",
    "from sklearn.metrics import roc_auc_score\n",
    "import seaborn as sns\n",
    "from helper import scaffold_split"
   ]
  },
  {
   "cell_type": "markdown",
   "id": "eeda01cf",
   "metadata": {},
   "source": [
    "Read the data"
   ]
  },
  {
   "cell_type": "code",
   "execution_count": 19,
   "id": "29cea870",
   "metadata": {},
   "outputs": [],
   "source": [
    "df = pd.read_csv(\"biogen_logS.csv\")"
   ]
  },
  {
   "cell_type": "markdown",
   "id": "f63c1cb5",
   "metadata": {},
   "source": [
    "Set up for classification"
   ]
  },
  {
   "cell_type": "code",
   "execution_count": 20,
   "id": "32967af1",
   "metadata": {},
   "outputs": [],
   "source": [
    "df['is_sol'] = df.logS >= -4\n",
    "df.is_sol = df.is_sol.astype(int)"
   ]
  },
  {
   "cell_type": "code",
   "execution_count": 21,
   "id": "a5836d13",
   "metadata": {},
   "outputs": [
    {
     "data": {
      "image/png": "[encoded data removed]",
      "text/plain": [
       "<Figure size 558.875x500 with 1 Axes>"
      ]
     },
     "metadata": {},
     "output_type": "display_data"
    }
   ],
   "source": [
    "sns.displot(x=\"logS\",hue=\"is_sol\",data=df);"
   ]
  },
  {
   "cell_type": "code",
   "execution_count": 22,
   "id": "91d2be24",
   "metadata": {},
   "outputs": [],
   "source": [
    "df['fp'] = df.SMILES.apply(uru.smi2numpy_fp)"
   ]
  },
  {
   "cell_type": "code",
   "execution_count": 23,
   "id": "92fa4146",
   "metadata": {},
   "outputs": [],
   "source": [
    "X_vals = np.stack(df.fp)\n",
    "y_vals = df.is_sol "
   ]
  },
  {
   "cell_type": "markdown",
   "id": "ffc82583",
   "metadata": {},
   "source": [
    "### Repeated K-Fold Cross-Validation"
   ]
  },
  {
   "cell_type": "code",
   "execution_count": 24,
   "id": "01902ece",
   "metadata": {},
   "outputs": [
    {
     "data": {
      "application/vnd.jupyter.widget-view+json": {
       "model_id": "6529d226bb8d46e8a7451a8b57e64759",
       "version_major": 2,
       "version_minor": 0
      },
      "text/plain": [
       "  0%|          | 0/50 [00:00<?, ?it/s]"
      ]
     },
     "metadata": {},
     "output_type": "display_data"
    }
   ],
   "source": [
    "rkf = RepeatedKFold(n_splits=10, n_repeats=5, )\n",
    "five_x_ten_list = []\n",
    "for i, (train_index, test_index) in tqdm(enumerate(rkf.split(df)),total=rkf.get_n_splits()):\n",
    "    train_X = X_vals[train_index]\n",
    "    train_y = y_vals[train_index]\n",
    "    test_X = X_vals[test_index]\n",
    "    test_y = y_vals[test_index]\n",
    "    cls = LGBMClassifier()\n",
    "    cls.fit(train_X,train_y)\n",
    "    pred = cls.predict(test_X)\n",
    "    auc = roc_auc_score(test_y, pred)\n",
    "    five_x_ten_list.append(auc)"
   ]
  },
  {
   "cell_type": "code",
   "execution_count": 25,
   "id": "0c8f03b6",
   "metadata": {},
   "outputs": [],
   "source": [
    "five_x_ten_df = pd.DataFrame({\"auc\": five_x_ten_list, \"method\": \"5x10-fold\"})"
   ]
  },
  {
   "cell_type": "markdown",
   "id": "7e43a160",
   "metadata": {},
   "source": [
    "### Shuffle-Split - This is what train_test_split does"
   ]
  },
  {
   "cell_type": "code",
   "execution_count": 26,
   "id": "69380062",
   "metadata": {},
   "outputs": [
    {
     "data": {
      "application/vnd.jupyter.widget-view+json": {
       "model_id": "4b437bed96b34039b56ff04a9c88c824",
       "version_major": 2,
       "version_minor": 0
      },
      "text/plain": [
       "  0%|          | 0/10 [00:00<?, ?it/s]"
      ]
     },
     "metadata": {},
     "output_type": "display_data"
    }
   ],
   "source": [
    "ss = ShuffleSplit(n_splits=10)\n",
    "ss_list = []\n",
    "for i, (train_index, test_index) in tqdm(enumerate(ss.split(df)),total=ss.get_n_splits()):\n",
    "    train_X = X_vals[train_index]\n",
    "    train_y = y_vals[train_index]\n",
    "    test_X = X_vals[test_index]\n",
    "    test_y = y_vals[test_index]\n",
    "    cls = LGBMClassifier()\n",
    "    cls.fit(train_X,train_y)\n",
    "    pred = cls.predict(test_X)\n",
    "    auc = roc_auc_score(test_y, pred)\n",
    "    ss_list.append(auc)"
   ]
  },
  {
   "cell_type": "code",
   "execution_count": 27,
   "id": "ee559e07",
   "metadata": {},
   "outputs": [],
   "source": [
    "ss_df = pd.DataFrame({\"auc\": ss_list, \"method\": \"shuffle-split\"})"
   ]
  },
  {
   "cell_type": "markdown",
   "id": "29ade3dd",
   "metadata": {},
   "source": [
    "### K-Fold Cross-Validation"
   ]
  },
  {
   "cell_type": "code",
   "execution_count": 42,
   "id": "9592c7e9",
   "metadata": {},
   "outputs": [
    {
     "data": {
      "application/vnd.jupyter.widget-view+json": {
       "model_id": "23a9160e83d44edd82c28e64722212c1",
       "version_major": 2,
       "version_minor": 0
      },
      "text/plain": [
       "  0%|          | 0/10 [00:00<?, ?it/s]"
      ]
     },
     "metadata": {},
     "output_type": "display_data"
    }
   ],
   "source": [
    "kf = KFold(n_splits=10, shuffle=True)\n",
    "kf_list = []\n",
    "for i, (train_index, test_index) in tqdm(enumerate(kf.split(df)),total=kf.get_n_splits()):\n",
    "    train_X = X_vals[train_index]\n",
    "    train_y = y_vals[train_index]\n",
    "    test_X = X_vals[test_index]\n",
    "    test_y = y_vals[test_index]\n",
    "    cls = LGBMClassifier()\n",
    "    cls.fit(train_X,train_y)\n",
    "    pred = cls.predict(test_X)\n",
    "    auc = roc_auc_score(test_y, pred)\n",
    "    kf_list.append(auc)"
   ]
  },
  {
   "cell_type": "code",
   "execution_count": 43,
   "id": "2804650b",
   "metadata": {},
   "outputs": [],
   "source": [
    "kf_df = pd.DataFrame({\"auc\": kf_list, \"method\": \"k-fold\"})"
   ]
  },
  {
   "cell_type": "markdown",
   "id": "1bf9faea",
   "metadata": {},
   "source": [
    "### Scaffold Split"
   ]
  },
  {
   "cell_type": "code",
   "execution_count": 44,
   "id": "ab4bac22",
   "metadata": {},
   "outputs": [
    {
     "data": {
      "application/vnd.jupyter.widget-view+json": {
       "model_id": "bf80e5acdc234b298d5d8b134ea4b2bc",
       "version_major": 2,
       "version_minor": 0
      },
      "text/plain": [
       "  0%|          | 0/10 [00:00<?, ?it/s]"
      ]
     },
     "metadata": {},
     "output_type": "display_data"
    }
   ],
   "source": [
    "scaf_list = []\n",
    "for i in tqdm(range(0,10)):\n",
    "    train_index, test_index = scaffold_split(df.SMILES, seed=i)\n",
    "    train_X = X_vals[train_index]\n",
    "    train_y = y_vals[train_index]\n",
    "    test_X = X_vals[test_index]\n",
    "    test_y = y_vals[test_index]\n",
    "    cls = LGBMClassifier()\n",
    "    cls.fit(train_X,train_y)\n",
    "    pred = cls.predict(test_X)\n",
    "    auc = roc_auc_score(test_y, pred)\n",
    "    scaf_list.append(auc)"
   ]
  },
  {
   "cell_type": "code",
   "execution_count": 45,
   "id": "7ab96044",
   "metadata": {},
   "outputs": [],
   "source": [
    "scaf_df = pd.DataFrame({\"auc\": scaf_list, \"method\": \"scaffold\"})"
   ]
  },
  {
   "cell_type": "code",
   "execution_count": 46,
   "id": "b0ef5047",
   "metadata": {},
   "outputs": [],
   "source": [
    "combo_df = pd.concat([five_x_ten_df, ss_df, kf_df, scaf_df])"
   ]
  },
  {
   "cell_type": "code",
   "execution_count": 47,
   "id": "552cc84e",
   "metadata": {},
   "outputs": [
    {
     "data": {
      "text/plain": [
       "Text(0, 0.5, 'ROC AUC')"
      ]
     },
     "execution_count": 47,
     "metadata": {},
     "output_type": "execute_result"
    },
    {
     "data": {
      "image/png": "[encoded data removed]",
      "text/plain": [
       "<Figure size 640x480 with 1 Axes>"
      ]
     },
     "metadata": {},
     "output_type": "display_data"
    }
   ],
   "source": [
    "ax = sns.boxplot(x=\"method\",y=\"auc\",data=combo_df,color=\"lightblue\",notch=True)\n",
    "ax.set_xlabel(\"Method\")\n",
    "ax.set_ylabel(\"ROC AUC\")"
   ]
  },
  {
   "cell_type": "code",
   "execution_count": null,
   "id": "d5b03a8a",
   "metadata": {},
   "outputs": [],
   "source": []
  },
  {
   "cell_type": "code",
   "execution_count": null,
   "id": "cc7f8cba",
   "metadata": {},
   "outputs": [],
   "source": []
  }
 ],
 "metadata": {
  "kernelspec": {
   "display_name": "Python 3 (ipykernel)",
   "language": "python",
   "name": "python3"
  },
  "language_info": {
   "codemirror_mode": {
    "name": "ipython",
    "version": 3
   },
   "file_extension": ".py",
   "mimetype": "text/x-python",
   "name": "python",
   "nbconvert_exporter": "python",
   "pygments_lexer": "ipython3",
   "version": "3.11.3"
  }
 },
 "nbformat": 4,
 "nbformat_minor": 5
}
